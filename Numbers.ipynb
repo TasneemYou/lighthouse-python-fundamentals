{
 "cells": [
  {
   "cell_type": "code",
   "execution_count": 1,
   "id": "d46442a3-abfd-41ad-a4c4-0fe9ed29aa85",
   "metadata": {},
   "outputs": [
    {
     "ename": "TypeError",
     "evalue": "object of type 'int' has no len()",
     "output_type": "error",
     "traceback": [
      "\u001b[1;31m---------------------------------------------------------------------------\u001b[0m",
      "\u001b[1;31mTypeError\u001b[0m                                 Traceback (most recent call last)",
      "\u001b[1;32m~\\AppData\\Local\\Temp/ipykernel_2756/2526422190.py\u001b[0m in \u001b[0;36m<module>\u001b[1;34m\u001b[0m\n\u001b[1;32m----> 1\u001b[1;33m \u001b[0mprint\u001b[0m\u001b[1;33m(\u001b[0m\u001b[0mlen\u001b[0m\u001b[1;33m(\u001b[0m\u001b[1;36m2\u001b[0m\u001b[1;33m)\u001b[0m\u001b[1;33m)\u001b[0m\u001b[1;33m\u001b[0m\u001b[1;33m\u001b[0m\u001b[0m\n\u001b[0m",
      "\u001b[1;31mTypeError\u001b[0m: object of type 'int' has no len()"
     ]
    }
   ],
   "source": [
    "print(len(2))"
   ]
  },
  {
   "cell_type": "code",
   "execution_count": 2,
   "id": "978c19c4-3225-4e7c-82f7-80baca560946",
   "metadata": {},
   "outputs": [
    {
     "ename": "TypeError",
     "evalue": "can only concatenate str (not \"int\") to str",
     "output_type": "error",
     "traceback": [
      "\u001b[1;31m---------------------------------------------------------------------------\u001b[0m",
      "\u001b[1;31mTypeError\u001b[0m                                 Traceback (most recent call last)",
      "\u001b[1;32m~\\AppData\\Local\\Temp/ipykernel_2756/377814694.py\u001b[0m in \u001b[0;36m<module>\u001b[1;34m\u001b[0m\n\u001b[1;32m----> 1\u001b[1;33m \u001b[0mprint\u001b[0m\u001b[1;33m(\u001b[0m\u001b[1;34m\"I would like \"\u001b[0m \u001b[1;33m+\u001b[0m \u001b[1;36m2\u001b[0m \u001b[1;33m+\u001b[0m \u001b[1;34m\" milkshakes, please.\"\u001b[0m\u001b[1;33m)\u001b[0m\u001b[1;33m\u001b[0m\u001b[1;33m\u001b[0m\u001b[0m\n\u001b[0m",
      "\u001b[1;31mTypeError\u001b[0m: can only concatenate str (not \"int\") to str"
     ]
    }
   ],
   "source": [
    "print(\"I would like \" + 2 + \" milkshakes, please.\")"
   ]
  },
  {
   "cell_type": "code",
   "execution_count": 3,
   "id": "b7ec3d89-6414-47a3-b085-168c6daefce3",
   "metadata": {},
   "outputs": [
    {
     "ename": "TypeError",
     "evalue": "can only concatenate str (not \"int\") to str",
     "output_type": "error",
     "traceback": [
      "\u001b[1;31m---------------------------------------------------------------------------\u001b[0m",
      "\u001b[1;31mTypeError\u001b[0m                                 Traceback (most recent call last)",
      "\u001b[1;32m~\\AppData\\Local\\Temp/ipykernel_2756/2046639227.py\u001b[0m in \u001b[0;36m<module>\u001b[1;34m\u001b[0m\n\u001b[1;32m----> 1\u001b[1;33m \u001b[1;34m\"2\"\u001b[0m \u001b[1;33m+\u001b[0m \u001b[1;36m2\u001b[0m\u001b[1;33m\u001b[0m\u001b[1;33m\u001b[0m\u001b[0m\n\u001b[0m",
      "\u001b[1;31mTypeError\u001b[0m: can only concatenate str (not \"int\") to str"
     ]
    }
   ],
   "source": [
    "\"2\" + 2"
   ]
  },
  {
   "cell_type": "markdown",
   "id": "f1b730ec-c527-4b4f-ae8a-2d5590a7266a",
   "metadata": {},
   "source": [
    "In Python, numbers are organized into two types: Integers and Floats. \n",
    "\n",
    "    Integers are whole numbers, positive and negative, like 10, 600001, and -7.\n",
    "    Floats are numbers with a decimal, like 3.14, 806.63, and 1.0.\n"
   ]
  },
  {
   "cell_type": "code",
   "execution_count": 4,
   "id": "39721f24-9933-4dd4-9c25-4f5654c0e768",
   "metadata": {},
   "outputs": [
    {
     "name": "stdin",
     "output_type": "stream",
     "text": [
      " 6\n"
     ]
    },
    {
     "name": "stdout",
     "output_type": "stream",
     "text": [
      "1\n"
     ]
    }
   ],
   "source": [
    "anyNum = int(input())\n",
    "anyNum -= 5\n",
    "print(anyNum)"
   ]
  },
  {
   "cell_type": "code",
   "execution_count": 5,
   "id": "ce0343b7-9885-4f94-b97a-37b5646b3bdf",
   "metadata": {},
   "outputs": [
    {
     "name": "stdout",
     "output_type": "stream",
     "text": [
      "15\n"
     ]
    }
   ],
   "source": [
    "tripleUp = 5\n",
    "tripleUp *= 3\n",
    "print(tripleUp) "
   ]
  },
  {
   "cell_type": "code",
   "execution_count": 6,
   "id": "6335dddf-f7f7-4eda-a173-d060f7e6e651",
   "metadata": {},
   "outputs": [
    {
     "name": "stdout",
     "output_type": "stream",
     "text": [
      "25.0\n"
     ]
    }
   ],
   "source": [
    "quarterValue = 100\n",
    "quarterValue /= 4\n",
    "print(quarterValue)"
   ]
  },
  {
   "cell_type": "code",
   "execution_count": 13,
   "id": "71164617-1e45-4598-bd47-126bc42a77d0",
   "metadata": {},
   "outputs": [
    {
     "data": {
      "text/plain": [
       "25"
      ]
     },
     "execution_count": 13,
     "metadata": {},
     "output_type": "execute_result"
    }
   ],
   "source": [
    "int(25.9)"
   ]
  },
  {
   "cell_type": "code",
   "execution_count": 8,
   "id": "577e37be-f8b8-4b72-9ee4-f5172605cc97",
   "metadata": {},
   "outputs": [
    {
     "data": {
      "text/plain": [
       "-2409.0"
      ]
     },
     "execution_count": 8,
     "metadata": {},
     "output_type": "execute_result"
    }
   ],
   "source": [
    "float(-2409)"
   ]
  },
  {
   "cell_type": "code",
   "execution_count": 9,
   "id": "5556f9e8-0591-4cba-bbd5-fe290c3fe8c2",
   "metadata": {},
   "outputs": [
    {
     "name": "stdout",
     "output_type": "stream",
     "text": [
      "2\n"
     ]
    }
   ],
   "source": [
    "print(2)"
   ]
  },
  {
   "cell_type": "code",
   "execution_count": 10,
   "id": "6938a681-374f-40d0-979c-e0054c92054d",
   "metadata": {},
   "outputs": [
    {
     "name": "stdout",
     "output_type": "stream",
     "text": [
      "1024\n"
     ]
    }
   ],
   "source": [
    "print(2 ** 10) #exponent operator"
   ]
  },
  {
   "cell_type": "code",
   "execution_count": 12,
   "id": "fb7d8647-1bc6-4d8a-a8dd-6c94a1dd2e4a",
   "metadata": {},
   "outputs": [
    {
     "name": "stdout",
     "output_type": "stream",
     "text": [
      "3\n"
     ]
    }
   ],
   "source": [
    "print(10//3) \n",
    "# When using floor division, the result of a division is rounded down to the nearest integer value, i.e. to a whole number."
   ]
  },
  {
   "cell_type": "markdown",
   "id": "9231ca23-c1c5-44aa-834d-4147883e8968",
   "metadata": {},
   "source": [
    "if the division results in a negative number? Suppose that we divide -11 by 3, which gives -3.66. What would the result of the following then be?"
   ]
  },
  {
   "cell_type": "code",
   "execution_count": 14,
   "id": "33bf85cf-5031-49a6-9d2b-6364816833da",
   "metadata": {},
   "outputs": [
    {
     "name": "stdout",
     "output_type": "stream",
     "text": [
      "-4\n"
     ]
    }
   ],
   "source": [
    "print(-11 // 3)"
   ]
  },
  {
   "cell_type": "markdown",
   "id": "cf2f27e9-3de8-4313-b6f0-dab6bfdfddfc",
   "metadata": {},
   "source": [
    "because the number is rounded down, and since -3.66 is below zero, rounding down to the nearest integer (or full number) means rounding down to -4"
   ]
  },
  {
   "cell_type": "code",
   "execution_count": null,
   "id": "ee145ad7-e4e5-47e2-963a-03603df0b01a",
   "metadata": {},
   "outputs": [],
   "source": []
  }
 ],
 "metadata": {
  "kernelspec": {
   "display_name": "Python 3 (ipykernel)",
   "language": "python",
   "name": "python3"
  },
  "language_info": {
   "codemirror_mode": {
    "name": "ipython",
    "version": 3
   },
   "file_extension": ".py",
   "mimetype": "text/x-python",
   "name": "python",
   "nbconvert_exporter": "python",
   "pygments_lexer": "ipython3",
   "version": "3.8.12"
  }
 },
 "nbformat": 4,
 "nbformat_minor": 5
}

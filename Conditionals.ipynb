{
 "cells": [
  {
   "cell_type": "code",
   "execution_count": 3,
   "id": "ac8b5ed0-8887-4dfa-b1ce-58ba0dcdfef5",
   "metadata": {},
   "outputs": [],
   "source": [
    "## Conditionals - Ternary operator"
   ]
  },
  {
   "cell_type": "code",
   "execution_count": 2,
   "id": "dc133dc6-2f58-4363-b511-68fb420005d9",
   "metadata": {},
   "outputs": [
    {
     "ename": "SyntaxError",
     "evalue": "invalid syntax (Temp/ipykernel_6220/3412676982.py, line 1)",
     "output_type": "error",
     "traceback": [
      "\u001b[1;36m  File \u001b[1;32m\"C:\\Users\\User\\AppData\\Local\\Temp/ipykernel_6220/3412676982.py\"\u001b[1;36m, line \u001b[1;32m1\u001b[0m\n\u001b[1;33m    <expr1> if <conditional_expr> else <expr2>\u001b[0m\n\u001b[1;37m    ^\u001b[0m\n\u001b[1;31mSyntaxError\u001b[0m\u001b[1;31m:\u001b[0m invalid syntax\n"
     ]
    }
   ],
   "source": [
    "<expr1> if <conditional_expr> else <expr2>"
   ]
  },
  {
   "cell_type": "code",
   "execution_count": 1,
   "id": "e228a878-ec14-4f82-819c-b0c22acff5ea",
   "metadata": {},
   "outputs": [
    {
     "name": "stdout",
     "output_type": "stream",
     "text": [
      "Let's go to the beach\n"
     ]
    }
   ],
   "source": [
    "raining = False\n",
    "print(\"Let's go to the\", 'beach' if not raining else 'library')\n"
   ]
  },
  {
   "cell_type": "code",
   "execution_count": 2,
   "id": "65f102a4-e543-401b-ae16-51d1e7e0c77d",
   "metadata": {},
   "outputs": [
    {
     "data": {
      "text/plain": [
       "'minor'"
      ]
     },
     "execution_count": 2,
     "metadata": {},
     "output_type": "execute_result"
    }
   ],
   "source": [
    "age = 12\n",
    "s = 'minor' if age < 21 else 'adult'\n",
    "s"
   ]
  },
  {
   "cell_type": "markdown",
   "id": "6eeb8931-3749-4d8e-a3ea-bf3f4fee3299",
   "metadata": {},
   "source": [
    "# If <expr> is true, execute all of <statement_1> ... <statement_n>. Otherwise, don’t execute any of them."
   ]
  },
  {
   "cell_type": "code",
   "execution_count": null,
   "id": "48e51a6f-04a8-4e0b-8106-664a6d7af5ea",
   "metadata": {},
   "outputs": [],
   "source": [
    "if <expr>: <statement_1>; <statement_2>; ...; <statement_n>"
   ]
  },
  {
   "cell_type": "code",
   "execution_count": null,
   "id": "8dcd22a0-755d-4918-b237-b5c7b498737d",
   "metadata": {},
   "outputs": [],
   "source": [
    "if <expr>: <statement> #One-line if statement\n"
   ]
  },
  {
   "cell_type": "code",
   "execution_count": null,
   "id": "a0ced336-c424-4604-a4b3-197340e2c182",
   "metadata": {},
   "outputs": [],
   "source": [
    "#The conditional expression has lower precedence than virtually all the other operators, so parentheses are needed to group it by itself.\n",
    "\n",
    "#In the following example, the + operator binds more tightly than the conditional expression, so 1 + x and y + 2 are evaluated first, followed by the conditional expression. The parentheses in the second case are unnecessary and do not change the result:"
   ]
  },
  {
   "cell_type": "code",
   "execution_count": 3,
   "id": "15ea5011-c2f8-4445-ab82-d74d10d3f631",
   "metadata": {},
   "outputs": [
    {
     "data": {
      "text/plain": [
       "42"
      ]
     },
     "execution_count": 3,
     "metadata": {},
     "output_type": "execute_result"
    }
   ],
   "source": [
    "x = y = 40\n",
    "\n",
    "z = 1 + x if x > y else y + 2\n",
    "z\n"
   ]
  },
  {
   "cell_type": "code",
   "execution_count": 4,
   "id": "d0191220-aa76-4f31-bd66-81b1693b4afc",
   "metadata": {},
   "outputs": [
    {
     "data": {
      "text/plain": [
       "43"
      ]
     },
     "execution_count": 4,
     "metadata": {},
     "output_type": "execute_result"
    }
   ],
   "source": [
    "x = y = 40\n",
    "\n",
    "z = 1 + (x if x > y else y) + 2\n",
    "z"
   ]
  },
  {
   "cell_type": "code",
   "execution_count": null,
   "id": "5e4fc84f-2f30-44af-8843-0067828b0b4f",
   "metadata": {},
   "outputs": [],
   "source": [
    "# Conditional expressions also use short-circuit evaluation like compound logical expressions. Portions of a conditional expression are not evaluated if they don’t need to be."
   ]
  },
  {
   "cell_type": "code",
   "execution_count": 5,
   "id": "df83dd26-a36c-4e49-8f4c-a1555fe2f0ff",
   "metadata": {},
   "outputs": [
    {
     "data": {
      "text/plain": [
       "'bar'"
      ]
     },
     "execution_count": 5,
     "metadata": {},
     "output_type": "execute_result"
    }
   ],
   "source": [
    "1/0 if False else 'bar'"
   ]
  },
  {
   "cell_type": "code",
   "execution_count": null,
   "id": "2b1b6334-78b0-4a06-ac68-546447af8e46",
   "metadata": {},
   "outputs": [],
   "source": [
    "# Conditional expressions can also be chained together, as a sort of alternative if/elif/else structure, as shown here:"
   ]
  },
  {
   "cell_type": "code",
   "execution_count": 6,
   "id": "0692f08e-ff4e-417c-8a21-41d649eb1df0",
   "metadata": {},
   "outputs": [
    {
     "data": {
      "text/plain": [
       "'quux'"
      ]
     },
     "execution_count": 6,
     "metadata": {},
     "output_type": "execute_result"
    }
   ],
   "source": [
    "s = ('foo' if (x == 1) else\n",
    "...      'bar' if (x == 2) else\n",
    "...      'baz' if (x == 3) else\n",
    "...      'qux' if (x == 4) else\n",
    "...      'quux'\n",
    "... )\n",
    "s"
   ]
  },
  {
   "cell_type": "code",
   "execution_count": null,
   "id": "b0599fa7-6283-4fe4-acd4-c6c18ca1869e",
   "metadata": {},
   "outputs": [],
   "source": [
    "# Occasionally, you may find that you want to write what is called a code stub: a placeholder for where you will eventually put a block of code that you haven’t implemented yet."
   ]
  },
  {
   "cell_type": "code",
   "execution_count": 7,
   "id": "04a5f544-b30f-4c26-b1e0-c3ecbff8b94f",
   "metadata": {},
   "outputs": [
    {
     "name": "stdout",
     "output_type": "stream",
     "text": [
      "foo\n"
     ]
    }
   ],
   "source": [
    "if True:\n",
    "    pass\n",
    "\n",
    "print('foo')\n"
   ]
  },
  {
   "cell_type": "code",
   "execution_count": null,
   "id": "017e44ae-14f7-48a2-bd8a-a5de753c1c2a",
   "metadata": {},
   "outputs": [],
   "source": []
  }
 ],
 "metadata": {
  "kernelspec": {
   "display_name": "Python 3 (ipykernel)",
   "language": "python",
   "name": "python3"
  },
  "language_info": {
   "codemirror_mode": {
    "name": "ipython",
    "version": 3
   },
   "file_extension": ".py",
   "mimetype": "text/x-python",
   "name": "python",
   "nbconvert_exporter": "python",
   "pygments_lexer": "ipython3",
   "version": "3.8.12"
  }
 },
 "nbformat": 4,
 "nbformat_minor": 5
}

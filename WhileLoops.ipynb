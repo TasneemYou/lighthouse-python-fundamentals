{
 "cells": [
  {
   "cell_type": "markdown",
   "id": "a71a3509-1434-45eb-9fc5-48ed96e9762e",
   "metadata": {},
   "source": [
    "In programming, there are two types of iteration, indefinite and definite:\n",
    "\n",
    "    With indefinite iteration, the number of times the loop is executed isn’t specified explicitly in advance. Rather, the designated block is executed repeatedly as long as some condition is met.\n",
    "\n",
    "    With definite iteration, the number of times the designated block will be executed is specified explicitly at the time the loop starts.\n"
   ]
  },
  {
   "cell_type": "markdown",
   "id": "4b590ac7-3664-4b4f-914f-27f394f2bd81",
   "metadata": {},
   "source": [
    "while loop, the Python control structure used for indefinite iteration"
   ]
  },
  {
   "cell_type": "markdown",
   "id": "89f785ac-f801-44e0-8f7d-626fc88908b5",
   "metadata": {},
   "source": [
    "The controlling expression, <expr>, typically involves one or more variables that are initialized prior to starting the loop and then modified somewhere in the loop body. "
   ]
  },
  {
   "cell_type": "markdown",
   "id": "48875a3b-83df-4f88-a7f7-08093ca1ae38",
   "metadata": {},
   "source": [
    "When a list is evaluated in Boolean context, it is truthy if it has elements in it and falsy if it is empty. In this example, a is true as long as it has elements in it. Once all the items have been removed with the .pop() method and the list is empty, a is false, and the loop terminates."
   ]
  },
  {
   "cell_type": "code",
   "execution_count": 3,
   "id": "1acf095d-c6d9-4e47-94ca-8c5f4c6b4846",
   "metadata": {},
   "outputs": [
    {
     "name": "stdout",
     "output_type": "stream",
     "text": [
      "baz\n",
      "bar\n",
      "foo\n"
     ]
    }
   ],
   "source": [
    "a = ['foo', 'bar', 'baz']\n",
    "while a:\n",
    "    print(a.pop())"
   ]
  },
  {
   "cell_type": "markdown",
   "id": "eeefde8b-4f59-4b36-baa0-52d364910640",
   "metadata": {},
   "source": [
    "Python allows an optional else clause at the end of a while loop. This is a unique feature of Python, not found in most other programming languages. The syntax is shown below:\n",
    "\n",
    "\n",
    "while <expr>:\n",
    "    <statement(s)>\n",
    "else:\n",
    "    <additional_statement(s)>\n",
    "\n",
    "        \n",
    "When <additional_statement(s)> are placed in an else clause, they will be executed only if the loop terminates “by exhaustion”—that is, if the loop iterates until the controlling condition becomes false. If the loop is exited by a break statement, the else clause won’t be executed.\n",
    "        \n",
    "When might an else clause on a while loop be useful? One common situation is if you are searching a list for a specific item. You can use break to exit the loop if the item is found, and the else clause can contain code that is meant to be executed if the item isn’t found:"
   ]
  },
  {
   "cell_type": "code",
   "execution_count": 4,
   "id": "e0efd4da-d388-45a6-9560-a20216817cd6",
   "metadata": {},
   "outputs": [
    {
     "name": "stdout",
     "output_type": "stream",
     "text": [
      "corge not found in list.\n"
     ]
    }
   ],
   "source": [
    "a = ['foo', 'bar', 'baz', 'qux']\n",
    "s = 'corge'\n",
    "\n",
    "i = 0\n",
    "while i < len(a):\n",
    "    if a[i] == s:\n",
    "    # Processing for item found\n",
    "        break\n",
    "    i += 1\n",
    "else:\n",
    "    # Processing for item not found\n",
    "    print(s, 'not found in list.')\n"
   ]
  },
  {
   "cell_type": "code",
   "execution_count": 5,
   "id": "db28bdff-229a-4163-b796-3f1a897c169b",
   "metadata": {},
   "outputs": [
    {
     "name": "stdout",
     "output_type": "stream",
     "text": [
      "corge not found in list.\n"
     ]
    }
   ],
   "source": [
    "try:\n",
    "    print(a.index('corge'))\n",
    "except ValueError:\n",
    "    print(s, 'not found in list.')"
   ]
  },
  {
   "cell_type": "code",
   "execution_count": 6,
   "id": "8c4f129a-1bd9-4792-aeb1-b0b7f1eda5bc",
   "metadata": {},
   "outputs": [
    {
     "name": "stdout",
     "output_type": "stream",
     "text": [
      "baz\n",
      "bar\n",
      "foo\n"
     ]
    }
   ],
   "source": [
    "a = ['foo', 'bar', 'baz']\n",
    "while True:\n",
    "    if not a:\n",
    "        break\n",
    "    print(a.pop(-1))"
   ]
  },
  {
   "cell_type": "markdown",
   "id": "3cb4e101-ecd0-4e06-81ff-e4bc83417818",
   "metadata": {},
   "source": [
    "You can also specify multiple break statements in a loop"
   ]
  },
  {
   "cell_type": "code",
   "execution_count": 7,
   "id": "a230a249-1bcd-4c31-a0bc-adcb4f9948f4",
   "metadata": {},
   "outputs": [
    {
     "name": "stdout",
     "output_type": "stream",
     "text": [
      "foo\n",
      "> baz\n",
      "> qux\n",
      "bar\n",
      "> baz\n",
      "> qux\n"
     ]
    }
   ],
   "source": [
    "a = ['foo', 'bar']\n",
    "while len(a):\n",
    "    print(a.pop(0))\n",
    "    b = ['baz', 'qux']\n",
    "    while len(b):\n",
    "        print('>', b.pop(0))"
   ]
  },
  {
   "cell_type": "markdown",
   "id": "655a647e-154d-47be-8d5a-45f674669c99",
   "metadata": {},
   "source": [
    "As with an if statement, a while loop can be specified on one line. If there are multiple statements in the block that makes up the loop body, they can be separated by semicolons (;):"
   ]
  },
  {
   "cell_type": "code",
   "execution_count": 8,
   "id": "5d47d237-4ed6-4389-9864-e1f2cc9ae870",
   "metadata": {},
   "outputs": [
    {
     "name": "stdout",
     "output_type": "stream",
     "text": [
      "4\n",
      "3\n",
      "2\n",
      "1\n",
      "0\n"
     ]
    }
   ],
   "source": [
    "n = 5\n",
    "while n > 0: n -= 1; print(n)"
   ]
  },
  {
   "cell_type": "code",
   "execution_count": 11,
   "id": "0acde86f-cd96-4010-8ecc-9d0b292675ba",
   "metadata": {},
   "outputs": [
    {
     "name": "stdin",
     "output_type": "stream",
     "text": [
      " 3\n",
      " 4\n",
      " 5\n"
     ]
    },
    {
     "name": "stdout",
     "output_type": "stream",
     "text": [
      "Sum:  12\n"
     ]
    }
   ],
   "source": [
    "sum=0\n",
    "i=3\n",
    "while i>0:\n",
    "    i-=1\n",
    "    num = int(input())\n",
    "    sum+=num\n",
    "print(\"Sum: \",sum)"
   ]
  },
  {
   "cell_type": "code",
   "execution_count": null,
   "id": "3f155b2a-9f98-4607-b6a7-f04cfc42513c",
   "metadata": {},
   "outputs": [],
   "source": []
  }
 ],
 "metadata": {
  "kernelspec": {
   "display_name": "Python 3 (ipykernel)",
   "language": "python",
   "name": "python3"
  },
  "language_info": {
   "codemirror_mode": {
    "name": "ipython",
    "version": 3
   },
   "file_extension": ".py",
   "mimetype": "text/x-python",
   "name": "python",
   "nbconvert_exporter": "python",
   "pygments_lexer": "ipython3",
   "version": "3.8.12"
  }
 },
 "nbformat": 4,
 "nbformat_minor": 5
}

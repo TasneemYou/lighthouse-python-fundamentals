{
 "cells": [
  {
   "cell_type": "markdown",
   "id": "15a5f4d1-83e7-4d93-9a98-0dee00397a96",
   "metadata": {},
   "source": [
    "Function without () in call will not run but give a function description"
   ]
  },
  {
   "cell_type": "code",
   "execution_count": 3,
   "id": "e149627c-530a-48b3-908b-fccdda421808",
   "metadata": {},
   "outputs": [
    {
     "name": "stdout",
     "output_type": "stream",
     "text": [
      "<function hello_func at 0x000001F5B2B6AAF0>\n"
     ]
    }
   ],
   "source": [
    "def hello_func():\n",
    "    pass\n",
    "\n",
    "print(hello_func)\n"
   ]
  },
  {
   "cell_type": "code",
   "execution_count": 2,
   "id": "fa661102-90cd-4e34-a937-e34d07187a70",
   "metadata": {},
   "outputs": [
    {
     "name": "stdout",
     "output_type": "stream",
     "text": [
      "None\n"
     ]
    }
   ],
   "source": [
    "print(hello_func())"
   ]
  },
  {
   "cell_type": "code",
   "execution_count": 4,
   "id": "eb85e11c-d245-46d3-8e3c-826768051ea6",
   "metadata": {},
   "outputs": [
    {
     "data": {
      "text/plain": [
       "'Hello function.'"
      ]
     },
     "execution_count": 4,
     "metadata": {},
     "output_type": "execute_result"
    }
   ],
   "source": [
    "# DRY - dont repeat your code\n",
    "def hello_func():\n",
    "    return \"Hello function.\"\n",
    "\n",
    "hello_func()"
   ]
  },
  {
   "cell_type": "code",
   "execution_count": 5,
   "id": "f76cd1fd-6de3-48f1-b993-2122d74c11b8",
   "metadata": {},
   "outputs": [
    {
     "data": {
      "text/plain": [
       "'HELLO FUNCTION.'"
      ]
     },
     "execution_count": 5,
     "metadata": {},
     "output_type": "execute_result"
    }
   ],
   "source": [
    "hello_func().upper() # we know output is string so we can use upper function."
   ]
  },
  {
   "cell_type": "code",
   "execution_count": 6,
   "id": "e1c432de-4f57-4a0a-9217-1ccd50178f87",
   "metadata": {},
   "outputs": [
    {
     "ename": "TypeError",
     "evalue": "hello_func() missing 1 required positional argument: 'greeting'",
     "output_type": "error",
     "traceback": [
      "\u001b[1;31m---------------------------------------------------------------------------\u001b[0m",
      "\u001b[1;31mTypeError\u001b[0m                                 Traceback (most recent call last)",
      "\u001b[1;32m~\\AppData\\Local\\Temp/ipykernel_9692/657200387.py\u001b[0m in \u001b[0;36m<module>\u001b[1;34m\u001b[0m\n\u001b[0;32m      2\u001b[0m     \u001b[1;32mreturn\u001b[0m \u001b[1;34m\"{} function.\"\u001b[0m\u001b[1;33m.\u001b[0m\u001b[0mformat\u001b[0m\u001b[1;33m(\u001b[0m\u001b[0mgreeting\u001b[0m\u001b[1;33m)\u001b[0m\u001b[1;33m\u001b[0m\u001b[1;33m\u001b[0m\u001b[0m\n\u001b[0;32m      3\u001b[0m \u001b[1;33m\u001b[0m\u001b[0m\n\u001b[1;32m----> 4\u001b[1;33m \u001b[0mhello_func\u001b[0m\u001b[1;33m(\u001b[0m\u001b[1;33m)\u001b[0m\u001b[1;33m\u001b[0m\u001b[1;33m\u001b[0m\u001b[0m\n\u001b[0m",
      "\u001b[1;31mTypeError\u001b[0m: hello_func() missing 1 required positional argument: 'greeting'"
     ]
    }
   ],
   "source": [
    "def hello_func(greeting):\n",
    "    return \"{} function.\".format(greeting)\n",
    "\n",
    "hello_func()"
   ]
  },
  {
   "cell_type": "code",
   "execution_count": 7,
   "id": "c2a4587a-3031-4641-8e68-74b5641b26f6",
   "metadata": {},
   "outputs": [
    {
     "data": {
      "text/plain": [
       "'Hi function.'"
      ]
     },
     "execution_count": 7,
     "metadata": {},
     "output_type": "execute_result"
    }
   ],
   "source": [
    "hello_func(\"Hi\")"
   ]
  },
  {
   "cell_type": "code",
   "execution_count": 8,
   "id": "e6f2da0b-041c-4739-b662-67494b69e9f5",
   "metadata": {},
   "outputs": [
    {
     "data": {
      "text/plain": [
       "'Hi, YOU.'"
      ]
     },
     "execution_count": 8,
     "metadata": {},
     "output_type": "execute_result"
    }
   ],
   "source": [
    "def hello_func(greeting, name = \"YOU\"):\n",
    "    return \"{}, {}.\".format(greeting,name)\n",
    "\n",
    "hello_func(\"Hi\")"
   ]
  },
  {
   "cell_type": "code",
   "execution_count": 9,
   "id": "ac14806b-6017-4483-bc48-fb6e1b37d817",
   "metadata": {},
   "outputs": [
    {
     "data": {
      "text/plain": [
       "'Hi, Corey.'"
      ]
     },
     "execution_count": 9,
     "metadata": {},
     "output_type": "execute_result"
    }
   ],
   "source": [
    "hello_func(\"Hi\", name = \"Corey\")"
   ]
  },
  {
   "cell_type": "code",
   "execution_count": 10,
   "id": "b571b7fc-e7c5-46ea-80e5-de041ce1594f",
   "metadata": {},
   "outputs": [
    {
     "name": "stdout",
     "output_type": "stream",
     "text": [
      "('Math', 'Art')\n",
      "{'name': 'John', 'age': 22}\n"
     ]
    }
   ],
   "source": [
    "def student_info(*args, **kwargs):\n",
    "    print(args) #positional args\n",
    "    print(kwargs) #keyword args\n",
    "    \n",
    "#we dont know how many pos or kwargs will be given. args, kwargs can be replaced by some other var.\n",
    "\n",
    "student_info('Math', 'Art', name=\"John\", age=22)"
   ]
  },
  {
   "cell_type": "code",
   "execution_count": 11,
   "id": "f88341d4-9350-42ce-85bf-e8757d6f8ff4",
   "metadata": {},
   "outputs": [
    {
     "name": "stdout",
     "output_type": "stream",
     "text": [
      "(['Math', 'Art'], {'name': 'John', 'age': 22})\n",
      "{}\n"
     ]
    }
   ],
   "source": [
    "courses=['Math', 'Art']\n",
    "info = {'name': 'John', 'age': 22}\n",
    "student_info(courses, info)"
   ]
  },
  {
   "cell_type": "code",
   "execution_count": 12,
   "id": "59bd914e-e11b-477a-9e04-82ead5ee88be",
   "metadata": {},
   "outputs": [
    {
     "name": "stdout",
     "output_type": "stream",
     "text": [
      "('Math', 'Art')\n",
      "{'name': 'John', 'age': 22}\n"
     ]
    }
   ],
   "source": [
    "student_info(*courses, **info) # to unpack values and pass them as args individually"
   ]
  },
  {
   "cell_type": "code",
   "execution_count": 14,
   "id": "255151ab-79db-41f7-8683-0c8ef7dc6993",
   "metadata": {},
   "outputs": [
    {
     "name": "stdout",
     "output_type": "stream",
     "text": [
      "28\n"
     ]
    }
   ],
   "source": [
    "month_days=[0, 31, 28, 31, 30, 31, 30, 31, 31, 30, 31, 30, 31]\n",
    "\n",
    "def is_leap(year):\n",
    "    #docstring below, for function help\n",
    "    \"\"\"Return true for leap year\"\"\"\n",
    "    return year%4==0 and (year%100 !=0 or year %400 ==0)\n",
    "\n",
    "def days_in_month(year, month):\n",
    "    \"\"\"Return no. of days in a month of a year\"\"\"\n",
    "    if not 1 <= month <= 12:\n",
    "        return \"Invalid\"\n",
    "    if month ==2 and is_leap(year):\n",
    "        return 29\n",
    "    return month_days[month]\n",
    "\n",
    "print(days_in_month(2017,2))\n",
    "    "
   ]
  },
  {
   "cell_type": "code",
   "execution_count": null,
   "id": "db937c8c-7f0d-4c29-818f-b87db3cac677",
   "metadata": {},
   "outputs": [],
   "source": []
  }
 ],
 "metadata": {
  "kernelspec": {
   "display_name": "Python 3 (ipykernel)",
   "language": "python",
   "name": "python3"
  },
  "language_info": {
   "codemirror_mode": {
    "name": "ipython",
    "version": 3
   },
   "file_extension": ".py",
   "mimetype": "text/x-python",
   "name": "python",
   "nbconvert_exporter": "python",
   "pygments_lexer": "ipython3",
   "version": "3.8.12"
  }
 },
 "nbformat": 4,
 "nbformat_minor": 5
}

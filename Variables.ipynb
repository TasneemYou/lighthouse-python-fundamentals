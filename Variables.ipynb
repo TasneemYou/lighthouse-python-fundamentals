{
 "cells": [
  {
   "cell_type": "markdown",
   "id": "d6873d82-7082-4ddc-bdc2-4c41d73d5a14",
   "metadata": {},
   "source": [
    "Chained Assignments"
   ]
  },
  {
   "cell_type": "code",
   "execution_count": 2,
   "id": "64e480a4-0600-474f-a448-91a28b21d887",
   "metadata": {},
   "outputs": [
    {
     "name": "stdout",
     "output_type": "stream",
     "text": [
      "300 300 300\n"
     ]
    }
   ],
   "source": [
    "a=b=c=300\n",
    "print(a,b,c)"
   ]
  },
  {
   "cell_type": "code",
   "execution_count": 3,
   "id": "ac8973bb-86df-4549-bde3-12ee61877a27",
   "metadata": {},
   "outputs": [
    {
     "data": {
      "text/plain": [
       "int"
      ]
     },
     "execution_count": 3,
     "metadata": {},
     "output_type": "execute_result"
    }
   ],
   "source": [
    "type(a)"
   ]
  },
  {
   "cell_type": "markdown",
   "id": "87153381-aa0b-4f8a-96b0-28e873bfa06a",
   "metadata": {},
   "source": [
    "The following code shows that m and n points to the same object"
   ]
  },
  {
   "cell_type": "code",
   "execution_count": 11,
   "id": "c00a85cd-159f-4d98-a559-a47e47f646c7",
   "metadata": {},
   "outputs": [],
   "source": [
    "n=300\n",
    "m=n"
   ]
  },
  {
   "cell_type": "code",
   "execution_count": 12,
   "id": "d3dba200-a28d-4a4f-a26f-a37f1f3351bb",
   "metadata": {},
   "outputs": [
    {
     "data": {
      "text/plain": [
       "2506840753008"
      ]
     },
     "execution_count": 12,
     "metadata": {},
     "output_type": "execute_result"
    }
   ],
   "source": [
    "id(n)"
   ]
  },
  {
   "cell_type": "code",
   "execution_count": 13,
   "id": "a73eec6b-e8b5-46b1-aeff-391085fa1032",
   "metadata": {},
   "outputs": [
    {
     "data": {
      "text/plain": [
       "2506840753008"
      ]
     },
     "execution_count": 13,
     "metadata": {},
     "output_type": "execute_result"
    }
   ],
   "source": [
    "id(m)"
   ]
  },
  {
   "cell_type": "markdown",
   "id": "841e4a54-542f-4940-aab1-97e8de41af49",
   "metadata": {},
   "source": [
    "Alternatively, see this code below in which m and n points to different objects with same value."
   ]
  },
  {
   "cell_type": "code",
   "execution_count": 14,
   "id": "de0bbcaf-0f72-431a-a402-ea8dc125a3c9",
   "metadata": {},
   "outputs": [],
   "source": [
    "m=300\n",
    "n=300"
   ]
  },
  {
   "cell_type": "code",
   "execution_count": 15,
   "id": "ad61e1be-8418-445d-bcb8-362f58e9de49",
   "metadata": {},
   "outputs": [
    {
     "data": {
      "text/plain": [
       "2506841371344"
      ]
     },
     "execution_count": 15,
     "metadata": {},
     "output_type": "execute_result"
    }
   ],
   "source": [
    "id(m)"
   ]
  },
  {
   "cell_type": "code",
   "execution_count": 16,
   "id": "90d2312a-1df5-4652-b9c1-09b3b2dfe4af",
   "metadata": {},
   "outputs": [
    {
     "data": {
      "text/plain": [
       "2506841371216"
      ]
     },
     "execution_count": 16,
     "metadata": {},
     "output_type": "execute_result"
    }
   ],
   "source": [
    "id(n)"
   ]
  },
  {
   "cell_type": "markdown",
   "id": "9832264e-1d9f-4836-b27a-fa1845798903",
   "metadata": {},
   "source": [
    "Consider this:\n",
    "\n",
    "Here, m and n are separately assigned to integer objects having value 30. But in this case, id(m) and id(n) are identical!\n",
    "\n",
    "For purposes of optimization, the interpreter creates objects for the integers in the range [-5, 256] at startup, and then reuses them during program execution. "
   ]
  },
  {
   "cell_type": "code",
   "execution_count": 17,
   "id": "8b9de857-ad53-49b7-9940-c85fcea9fee5",
   "metadata": {},
   "outputs": [],
   "source": [
    "m=30\n",
    "n=30"
   ]
  },
  {
   "cell_type": "code",
   "execution_count": 18,
   "id": "b673d647-2a34-48e9-ba37-d32405dcbf8c",
   "metadata": {},
   "outputs": [
    {
     "data": {
      "text/plain": [
       "140724294656672"
      ]
     },
     "execution_count": 18,
     "metadata": {},
     "output_type": "execute_result"
    }
   ],
   "source": [
    "id(m)"
   ]
  },
  {
   "cell_type": "code",
   "execution_count": 19,
   "id": "35b9a04b-c81a-4fb8-9564-0df1bdc9c52a",
   "metadata": {},
   "outputs": [
    {
     "data": {
      "text/plain": [
       "140724294656672"
      ]
     },
     "execution_count": 19,
     "metadata": {},
     "output_type": "execute_result"
    }
   ],
   "source": [
    "id(n)"
   ]
  }
 ],
 "metadata": {
  "kernelspec": {
   "display_name": "Python 3 (ipykernel)",
   "language": "python",
   "name": "python3"
  },
  "language_info": {
   "codemirror_mode": {
    "name": "ipython",
    "version": 3
   },
   "file_extension": ".py",
   "mimetype": "text/x-python",
   "name": "python",
   "nbconvert_exporter": "python",
   "pygments_lexer": "ipython3",
   "version": "3.8.12"
  }
 },
 "nbformat": 4,
 "nbformat_minor": 5
}

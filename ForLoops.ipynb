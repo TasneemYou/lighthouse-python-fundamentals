{
 "cells": [
  {
   "cell_type": "markdown",
   "id": "a7a3f5bf-4bc7-48be-abce-8ee453cbc650",
   "metadata": {},
   "source": [
    "A for loop (definite iteration) is used for iterating over a sequence (that is either a list, a tuple, a dictionary, a set, or a string).\n",
    "\n",
    "Note\n",
    "\n",
    "In the past, for loops were often used for applying different operations to a dataset. This made the process quite slow for data with a lot of rows. Nowadays, in Python, we have much better options for this.\n",
    "\n",
    "Definite iteration can be done in 3 ways:\n",
    "\n",
    "1. Numeric Range Loop\n",
    "    for i=1 to 10\n",
    "        [loop]\n",
    "\n",
    "2. Three-Expression Loop\n",
    "    for(i=1;i<=10;i++)\n",
    "        [loop]\n",
    "\n",
    "3. Collection-based or Iterator-based Loop (Python uses this only)\n",
    "    for i in <collection>\n",
    "    <loop body>\n",
    "\n",
    "In Python, iterable means an object can be used in iteration. The term is used as:\n",
    "\n",
    "    An adjective: An object may be described as iterable.\n",
    "    A noun: An object may be characterized as an iterable.\n",
    "\n",
    "If an object is iterable, it can be passed to the built-in Python function iter(), which returns something called an iterator.\n",
    "        \n",
    "        >>> iter('foobar')                             # String\n",
    "<str_iterator object at 0x036E2750>\n",
    "\n",
    ">>> iter(['foo', 'bar', 'baz'])                # List\n",
    "<list_iterator object at 0x036E27D0>\n",
    "\n",
    ">>> iter(('foo', 'bar', 'baz'))                # Tuple\n",
    "<tuple_iterator object at 0x036E27F0>\n",
    "\n",
    ">>> iter({'foo', 'bar', 'baz'})                # Set\n",
    "<set_iterator object at 0x036DEA08>\n",
    "\n",
    ">>> iter({'foo': 1, 'bar': 2, 'baz': 3})       # Dict\n",
    "<dict_keyiterator object at 0x036DD990>\n",
    "\n",
    "    These object types, on the other hand, aren’t iterable:\n",
    "\n",
    ">>> iter(42)                                   # Integer\n",
    "Traceback (most recent call last):\n",
    "  File \"<pyshell#26>\", line 1, in <module>\n",
    "    iter(42)\n",
    "TypeError: 'int' object is not iterable\n",
    "\n",
    ">>> iter(3.1)                                  # Float\n",
    "Traceback (most recent call last):\n",
    "  File \"<pyshell#27>\", line 1, in <module>\n",
    "    iter(3.1)\n",
    "TypeError: 'float' object is not iterable\n",
    "\n",
    ">>> iter(len)                                  # Built-in function\n",
    "Traceback (most recent call last):\n",
    "  File \"<pyshell#28>\", line 1, in <module>\n",
    "    iter(len)\n",
    "TypeError: 'builtin_function_or_method' object is not iterable\n",
    "    \n",
    "    \n",
    "Iterable \tAn object (or the adjective used to describe an object) that can be iterated over\n",
    "Iterator \tThe object that produces successive items or values from its associated iterable\n",
    "iter() \tThe built-in function used to obtain an iterator from an iterable\n"
   ]
  },
  {
   "cell_type": "code",
   "execution_count": 1,
   "id": "ee17a5db-b2e9-4ea5-b3cc-84a1871f6490",
   "metadata": {},
   "outputs": [
    {
     "data": {
      "text/plain": [
       "<list_iterator at 0x2740a071ac0>"
      ]
     },
     "execution_count": 1,
     "metadata": {},
     "output_type": "execute_result"
    }
   ],
   "source": [
    "a = ['foo', 'bar', 'baz']\n",
    "itr = iter(a)\n",
    "itr"
   ]
  },
  {
   "cell_type": "code",
   "execution_count": 2,
   "id": "ca0aec8e-3fa9-4fc9-b38c-fb5ece87b41d",
   "metadata": {},
   "outputs": [
    {
     "data": {
      "text/plain": [
       "'foo'"
      ]
     },
     "execution_count": 2,
     "metadata": {},
     "output_type": "execute_result"
    }
   ],
   "source": [
    "next(itr)"
   ]
  },
  {
   "cell_type": "code",
   "execution_count": 3,
   "id": "b6570513-7296-4213-83a8-2ba7daf9cd40",
   "metadata": {},
   "outputs": [
    {
     "data": {
      "text/plain": [
       "'bar'"
      ]
     },
     "execution_count": 3,
     "metadata": {},
     "output_type": "execute_result"
    }
   ],
   "source": [
    "next(itr)"
   ]
  },
  {
   "cell_type": "code",
   "execution_count": 4,
   "id": "a906b397-95c7-401b-91ae-a83ccbb48e04",
   "metadata": {},
   "outputs": [
    {
     "data": {
      "text/plain": [
       "'baz'"
      ]
     },
     "execution_count": 4,
     "metadata": {},
     "output_type": "execute_result"
    }
   ],
   "source": [
    "next(itr)"
   ]
  },
  {
   "cell_type": "markdown",
   "id": "3a5dd461-1c3d-4c48-b997-b447409f85ac",
   "metadata": {},
   "source": [
    "If all the values from an iterator have been returned already, a subsequent next() call raises a StopIteration exception. "
   ]
  },
  {
   "cell_type": "code",
   "execution_count": 5,
   "id": "17e20d63-15f7-4a82-ba1e-6df93d1a63e7",
   "metadata": {},
   "outputs": [
    {
     "ename": "StopIteration",
     "evalue": "",
     "output_type": "error",
     "traceback": [
      "\u001b[1;31m---------------------------------------------------------------------------\u001b[0m",
      "\u001b[1;31mStopIteration\u001b[0m                             Traceback (most recent call last)",
      "\u001b[1;32m~\\AppData\\Local\\Temp/ipykernel_12028/2891714693.py\u001b[0m in \u001b[0;36m<module>\u001b[1;34m\u001b[0m\n\u001b[1;32m----> 1\u001b[1;33m \u001b[0mnext\u001b[0m\u001b[1;33m(\u001b[0m\u001b[0mitr\u001b[0m\u001b[1;33m)\u001b[0m\u001b[1;33m\u001b[0m\u001b[1;33m\u001b[0m\u001b[0m\n\u001b[0m",
      "\u001b[1;31mStopIteration\u001b[0m: "
     ]
    }
   ],
   "source": [
    "next(itr)"
   ]
  },
  {
   "cell_type": "markdown",
   "id": "59288dc7-5c91-4b54-a9a8-5f4a1d7c77c5",
   "metadata": {},
   "source": [
    "You can only obtain values from an iterator in one direction. You can’t go backward. There is no prev() function. But you can define two independent iterators on the same iterable object. Each iterator maintains its own internal state, independent of the other."
   ]
  },
  {
   "cell_type": "code",
   "execution_count": 6,
   "id": "86ea2c46-1e38-4afa-a72e-3c858e83cd33",
   "metadata": {},
   "outputs": [],
   "source": [
    "itr1 = iter(a)\n",
    "itr2 = iter(a)"
   ]
  },
  {
   "cell_type": "code",
   "execution_count": 7,
   "id": "29f799ea-e749-4bb5-80ac-b0a3ed16eb8b",
   "metadata": {},
   "outputs": [
    {
     "data": {
      "text/plain": [
       "'foo'"
      ]
     },
     "execution_count": 7,
     "metadata": {},
     "output_type": "execute_result"
    }
   ],
   "source": [
    "next(itr1)"
   ]
  },
  {
   "cell_type": "code",
   "execution_count": 8,
   "id": "4561c040-208d-4192-a6db-a1e78cc95e26",
   "metadata": {},
   "outputs": [
    {
     "data": {
      "text/plain": [
       "'foo'"
      ]
     },
     "execution_count": 8,
     "metadata": {},
     "output_type": "execute_result"
    }
   ],
   "source": [
    "next(itr2)"
   ]
  },
  {
   "cell_type": "markdown",
   "id": "451b97cb-45de-4620-97b6-26c2bcf0f7cc",
   "metadata": {},
   "source": [
    "When you use list(), tuple(), or the like, you are forcing the iterator to generate all its values at once, so they can all be returned. If the total number of objects the iterator returns is very large, that may take a long time."
   ]
  },
  {
   "cell_type": "code",
   "execution_count": 9,
   "id": "b8aa33c7-a246-465e-b45b-8693628a64e6",
   "metadata": {},
   "outputs": [
    {
     "data": {
      "text/plain": [
       "['foo', 'bar', 'baz']"
      ]
     },
     "execution_count": 9,
     "metadata": {},
     "output_type": "execute_result"
    }
   ],
   "source": [
    "a = ['foo', 'bar', 'baz']\n",
    "itr = iter(a)\n",
    "list(itr)"
   ]
  },
  {
   "cell_type": "code",
   "execution_count": 11,
   "id": "d53f9dda-e732-47f3-a8ee-2474617e7cc2",
   "metadata": {},
   "outputs": [
    {
     "data": {
      "text/plain": [
       "('foo', 'bar', 'baz')"
      ]
     },
     "execution_count": 11,
     "metadata": {},
     "output_type": "execute_result"
    }
   ],
   "source": [
    "itr = iter(a)\n",
    "tuple(itr)"
   ]
  },
  {
   "cell_type": "code",
   "execution_count": 13,
   "id": "8f04f59e-72b9-4559-878f-aae876ff6fdc",
   "metadata": {},
   "outputs": [
    {
     "data": {
      "text/plain": [
       "{'bar', 'baz', 'foo'}"
      ]
     },
     "execution_count": 13,
     "metadata": {},
     "output_type": "execute_result"
    }
   ],
   "source": [
    "itr = iter(a)\n",
    "set(itr)"
   ]
  },
  {
   "cell_type": "markdown",
   "id": "660005d5-6bb1-4c24-bb8e-b8d1a2dd7c04",
   "metadata": {},
   "source": [
    "#Iterating Through a Dictionary"
   ]
  },
  {
   "cell_type": "code",
   "execution_count": 15,
   "id": "fd81e4a3-8adc-4fa7-9f68-d7b482657f04",
   "metadata": {},
   "outputs": [
    {
     "name": "stdout",
     "output_type": "stream",
     "text": [
      "foo\n",
      "bar\n",
      "baz\n"
     ]
    }
   ],
   "source": [
    "d = {'foo': 1, 'bar': 2, 'baz': 3}\n",
    "for k in d:\n",
    "    print(k)"
   ]
  },
  {
   "cell_type": "markdown",
   "id": "5d67313d-79ec-436c-a1c2-d59857656356",
   "metadata": {},
   "source": [
    "To access the dictionary values within the loop"
   ]
  },
  {
   "cell_type": "code",
   "execution_count": 16,
   "id": "2a0fe61c-aef1-4724-a04f-3107e6ad1e23",
   "metadata": {},
   "outputs": [
    {
     "name": "stdout",
     "output_type": "stream",
     "text": [
      "1\n",
      "2\n",
      "3\n"
     ]
    }
   ],
   "source": [
    "for k in d:\n",
    "    print(d[k])"
   ]
  },
  {
   "cell_type": "markdown",
   "id": "251cef32-0aba-497d-b2ca-d44ee30a2e25",
   "metadata": {},
   "source": [
    "or,"
   ]
  },
  {
   "cell_type": "code",
   "execution_count": 17,
   "id": "523e8d6d-0573-4776-8483-a02801c57eee",
   "metadata": {},
   "outputs": [
    {
     "name": "stdout",
     "output_type": "stream",
     "text": [
      "1\n",
      "2\n",
      "3\n"
     ]
    }
   ],
   "source": [
    "for v in d.values():\n",
    "     print(v)"
   ]
  },
  {
   "cell_type": "markdown",
   "id": "77d50a5e-bf7a-4998-9621-39dff85336b1",
   "metadata": {},
   "source": [
    "you can iterate through both the keys and values of a dictionary simultaneously. similarly, for tuples:"
   ]
  },
  {
   "cell_type": "code",
   "execution_count": 18,
   "id": "1a0118c8-7914-40fb-935c-9847a451fe38",
   "metadata": {},
   "outputs": [
    {
     "name": "stdout",
     "output_type": "stream",
     "text": [
      "1 2\n",
      "3 4\n",
      "5 6\n"
     ]
    }
   ],
   "source": [
    "for i, j in [(1, 2), (3, 4), (5, 6)]:\n",
    "    print(i, j)"
   ]
  },
  {
   "cell_type": "code",
   "execution_count": 19,
   "id": "db2a2a37-324f-445e-b4f5-d3f58cac64d8",
   "metadata": {},
   "outputs": [
    {
     "data": {
      "text/plain": [
       "dict_items([('foo', 1), ('bar', 2), ('baz', 3)])"
      ]
     },
     "execution_count": 19,
     "metadata": {},
     "output_type": "execute_result"
    }
   ],
   "source": [
    "d = {'foo': 1, 'bar': 2, 'baz': 3}\n",
    "\n",
    "d.items()"
   ]
  },
  {
   "cell_type": "code",
   "execution_count": 20,
   "id": "6a135c6e-c747-443d-b3d0-3e1ee0e0523a",
   "metadata": {},
   "outputs": [
    {
     "name": "stdout",
     "output_type": "stream",
     "text": [
      "k = foo , v = 1\n",
      "k = bar , v = 2\n",
      "k = baz , v = 3\n"
     ]
    }
   ],
   "source": [
    "d = {'foo': 1, 'bar': 2, 'baz': 3}\n",
    "for k, v in d.items():\n",
    "     print('k =', k, ', v =', v)"
   ]
  },
  {
   "cell_type": "markdown",
   "id": "5d5bf271-ba94-4931-931b-8f18dcc3cd26",
   "metadata": {},
   "source": [
    "a numeric range loop, in which starting and ending numeric values are specified can be made in Python using range"
   ]
  },
  {
   "cell_type": "code",
   "execution_count": 21,
   "id": "85d02495-cc6e-4a18-ba8f-bcb90182ad13",
   "metadata": {},
   "outputs": [
    {
     "data": {
      "text/plain": [
       "range(0, 5)"
      ]
     },
     "execution_count": 21,
     "metadata": {},
     "output_type": "execute_result"
    }
   ],
   "source": [
    "x = range(5)\n",
    "x"
   ]
  },
  {
   "cell_type": "code",
   "execution_count": 22,
   "id": "23aa1236-a426-4939-91e8-ecc65d7cfd7b",
   "metadata": {},
   "outputs": [
    {
     "name": "stdout",
     "output_type": "stream",
     "text": [
      "0\n",
      "1\n",
      "2\n",
      "3\n",
      "4\n"
     ]
    }
   ],
   "source": [
    "for n in x:\n",
    "    print(n)"
   ]
  },
  {
   "cell_type": "markdown",
   "id": "8c8a5219-0335-4aef-99a0-82833d664e86",
   "metadata": {},
   "source": [
    "range(<begin>, <end>, <stride>) returns an iterable that yields integers starting with <begin>, up to but not including <end>. If specified, <stride> indicates an amount to skip between values (analogous to the stride value used for string and list slicing).\n",
    "    \n",
    "All the parameters specified to range() must be integers, but any of them can be negative. Naturally, if <begin> is greater than <end>, <stride> must be negative (if you want any results):"
   ]
  },
  {
   "cell_type": "code",
   "execution_count": 23,
   "id": "7a4bb4bc-14e6-4720-8c4e-630adeb58feb",
   "metadata": {},
   "outputs": [
    {
     "data": {
      "text/plain": [
       "[-5, -4, -3, -2, -1, 0, 1, 2, 3, 4]"
      ]
     },
     "execution_count": 23,
     "metadata": {},
     "output_type": "execute_result"
    }
   ],
   "source": [
    "list(range(-5, 5))"
   ]
  },
  {
   "cell_type": "code",
   "execution_count": 24,
   "id": "3e312b42-8bf2-4129-ad20-0a99a71220e5",
   "metadata": {},
   "outputs": [
    {
     "data": {
      "text/plain": [
       "[]"
      ]
     },
     "execution_count": 24,
     "metadata": {},
     "output_type": "execute_result"
    }
   ],
   "source": [
    "list(range(5, -5))"
   ]
  },
  {
   "cell_type": "code",
   "execution_count": 25,
   "id": "44a62f3d-8351-4350-87c9-999db63b7566",
   "metadata": {},
   "outputs": [
    {
     "data": {
      "text/plain": [
       "[5, 4, 3, 2, 1, 0, -1, -2, -3, -4]"
      ]
     },
     "execution_count": 25,
     "metadata": {},
     "output_type": "execute_result"
    }
   ],
   "source": [
    "list(range(5, -5, -1))"
   ]
  },
  {
   "cell_type": "markdown",
   "id": "74e466d7-c2a6-42c4-afa6-289255f22bd8",
   "metadata": {},
   "source": [
    "A for loop can have an else clause as well. The interpretation is analogous to that of a while loop. The else clause will be executed if the loop terminates through exhaustion of the iterable. The else clause won’t be executed if the list is broken out of with a break statement:"
   ]
  },
  {
   "cell_type": "code",
   "execution_count": 26,
   "id": "7bece7b3-6af4-40a1-9e19-71541e912b8b",
   "metadata": {},
   "outputs": [
    {
     "name": "stdout",
     "output_type": "stream",
     "text": [
      "foo\n",
      "bar\n",
      "baz\n",
      "qux\n",
      "Done.\n"
     ]
    }
   ],
   "source": [
    "for i in ['foo', 'bar', 'baz', 'qux']:\n",
    "     print(i)\n",
    "else:\n",
    "     print('Done.')  # Will execute"
   ]
  },
  {
   "cell_type": "code",
   "execution_count": null,
   "id": "973bdd51-301a-4e64-86c1-7bc8dc9f86a9",
   "metadata": {},
   "outputs": [],
   "source": []
  }
 ],
 "metadata": {
  "kernelspec": {
   "display_name": "Python 3 (ipykernel)",
   "language": "python",
   "name": "python3"
  },
  "language_info": {
   "codemirror_mode": {
    "name": "ipython",
    "version": 3
   },
   "file_extension": ".py",
   "mimetype": "text/x-python",
   "name": "python",
   "nbconvert_exporter": "python",
   "pygments_lexer": "ipython3",
   "version": "3.8.12"
  }
 },
 "nbformat": 4,
 "nbformat_minor": 5
}

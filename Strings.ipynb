{
 "cells": [
  {
   "cell_type": "markdown",
   "id": "e25b45d9-666e-4e3b-87aa-668421ae5204",
   "metadata": {},
   "source": [
    "The * Operator can be 0 or -ve in which case result will be empty string"
   ]
  },
  {
   "cell_type": "code",
   "execution_count": 1,
   "id": "75ec0d90-b4a6-4fbd-8a96-71cfc3256a50",
   "metadata": {},
   "outputs": [
    {
     "data": {
      "text/plain": [
       "''"
      ]
     },
     "execution_count": 1,
     "metadata": {},
     "output_type": "execute_result"
    }
   ],
   "source": [
    "n=\"foo\"\n",
    "n*0"
   ]
  },
  {
   "cell_type": "code",
   "execution_count": 2,
   "id": "11438411-3904-4dc6-a3e2-0efe5176b8c8",
   "metadata": {},
   "outputs": [
    {
     "data": {
      "text/plain": [
       "''"
      ]
     },
     "execution_count": 2,
     "metadata": {},
     "output_type": "execute_result"
    }
   ],
   "source": [
    "n*-8"
   ]
  },
  {
   "cell_type": "markdown",
   "id": "3fb7e763-bd19-4379-b5fa-104c044cb6a0",
   "metadata": {},
   "source": [
    "The 'in' Operator"
   ]
  },
  {
   "cell_type": "code",
   "execution_count": 3,
   "id": "2037caf3-62eb-4a4a-abdf-bc07d870ba3d",
   "metadata": {},
   "outputs": [
    {
     "data": {
      "text/plain": [
       "True"
      ]
     },
     "execution_count": 3,
     "metadata": {},
     "output_type": "execute_result"
    }
   ],
   "source": [
    "n in 'That\\'s food for thought'"
   ]
  },
  {
   "cell_type": "code",
   "execution_count": 4,
   "id": "fbfcd9a9-cfdb-46ed-b20b-56aa687eb49e",
   "metadata": {
    "tags": []
   },
   "outputs": [
    {
     "data": {
      "text/plain": [
       "True"
      ]
     },
     "execution_count": 4,
     "metadata": {},
     "output_type": "execute_result"
    }
   ],
   "source": [
    "n not in 'abc'"
   ]
  },
  {
   "cell_type": "markdown",
   "id": "c3eb75b8-14b1-4340-8a95-efa3c8165708",
   "metadata": {},
   "source": [
    "chr() \tConverts an integer to a character\n",
    "ord() \tConverts a character to an integer - returns ascii\n",
    "len() \tReturns the length of a string\n",
    "str() \tReturns a string representation of an object"
   ]
  },
  {
   "cell_type": "code",
   "execution_count": 6,
   "id": "41603379-c21b-4448-84e2-6705eacc6e7a",
   "metadata": {},
   "outputs": [
    {
     "data": {
      "text/plain": [
       "97"
      ]
     },
     "execution_count": 6,
     "metadata": {},
     "output_type": "execute_result"
    }
   ],
   "source": [
    "ord('a')"
   ]
  },
  {
   "cell_type": "code",
   "execution_count": 7,
   "id": "d7b6a9e2-ecc6-4d2d-9a0f-cc7572b9f738",
   "metadata": {},
   "outputs": [
    {
     "data": {
      "text/plain": [
       "'#'"
      ]
     },
     "execution_count": 7,
     "metadata": {},
     "output_type": "execute_result"
    }
   ],
   "source": [
    "chr(35)"
   ]
  },
  {
   "cell_type": "code",
   "execution_count": 8,
   "id": "da3a7427-f62d-4715-8386-8fab4854d4af",
   "metadata": {},
   "outputs": [
    {
     "data": {
      "text/plain": [
       "'€'"
      ]
     },
     "execution_count": 8,
     "metadata": {},
     "output_type": "execute_result"
    }
   ],
   "source": [
    "chr(8364)"
   ]
  },
  {
   "cell_type": "code",
   "execution_count": 10,
   "id": "e4b1073b-bbbc-4b32-9c36-ea08a0327522",
   "metadata": {},
   "outputs": [
    {
     "name": "stdout",
     "output_type": "stream",
     "text": [
      "(3+4j)\n",
      "4\n",
      "49.2\n"
     ]
    }
   ],
   "source": [
    "print(str(3+4j))\n",
    "print(str(2+2))\n",
    "print(str(49.2))"
   ]
  },
  {
   "cell_type": "code",
   "execution_count": 11,
   "id": "f2b6dce3-6a3c-4b8d-90c8-aacfead7f5c2",
   "metadata": {},
   "outputs": [],
   "source": [
    "my_str=\"foobar\""
   ]
  },
  {
   "cell_type": "code",
   "execution_count": 12,
   "id": "9b082128-7987-4c94-bf4b-7565c2e92c48",
   "metadata": {},
   "outputs": [
    {
     "data": {
      "text/plain": [
       "'f'"
      ]
     },
     "execution_count": 12,
     "metadata": {},
     "output_type": "execute_result"
    }
   ],
   "source": [
    "my_str[0]"
   ]
  },
  {
   "cell_type": "code",
   "execution_count": 13,
   "id": "2f70b465-c05b-403e-89fc-f05e1558e9da",
   "metadata": {},
   "outputs": [
    {
     "data": {
      "text/plain": [
       "'r'"
      ]
     },
     "execution_count": 13,
     "metadata": {},
     "output_type": "execute_result"
    }
   ],
   "source": [
    "my_str[len(my_str)-1]"
   ]
  },
  {
   "cell_type": "code",
   "execution_count": 14,
   "id": "1606a0e7-b162-4d34-9b6c-dd15034bd9ef",
   "metadata": {},
   "outputs": [
    {
     "data": {
      "text/plain": [
       "'r'"
      ]
     },
     "execution_count": 14,
     "metadata": {},
     "output_type": "execute_result"
    }
   ],
   "source": [
    "my_str[-1]"
   ]
  },
  {
   "cell_type": "code",
   "execution_count": 15,
   "id": "24360a43-807f-4e0f-993f-5630fd11f22c",
   "metadata": {},
   "outputs": [
    {
     "data": {
      "text/plain": [
       "'a'"
      ]
     },
     "execution_count": 15,
     "metadata": {},
     "output_type": "execute_result"
    }
   ],
   "source": [
    "my_str[-2]"
   ]
  },
  {
   "cell_type": "code",
   "execution_count": 16,
   "id": "de370a06-88ce-4cf1-96c4-d759da889fa6",
   "metadata": {},
   "outputs": [
    {
     "data": {
      "text/plain": [
       "'f'"
      ]
     },
     "execution_count": 16,
     "metadata": {},
     "output_type": "execute_result"
    }
   ],
   "source": [
    "my_str[-len(my_str)]"
   ]
  },
  {
   "cell_type": "markdown",
   "id": "e41b1dae-c154-4f8a-b978-3a0dfe5d957f",
   "metadata": {},
   "source": [
    "String Slicing:"
   ]
  },
  {
   "cell_type": "code",
   "execution_count": 17,
   "id": "cb1a98bd-2bc5-4871-a45a-361af7a8d41e",
   "metadata": {},
   "outputs": [
    {
     "data": {
      "text/plain": [
       "'oba'"
      ]
     },
     "execution_count": 17,
     "metadata": {},
     "output_type": "execute_result"
    }
   ],
   "source": [
    "my_str[2:5]"
   ]
  },
  {
   "cell_type": "code",
   "execution_count": 18,
   "id": "e92f53b1-af72-47ce-a868-1e32b6fe8175",
   "metadata": {},
   "outputs": [
    {
     "data": {
      "text/plain": [
       "'foob'"
      ]
     },
     "execution_count": 18,
     "metadata": {},
     "output_type": "execute_result"
    }
   ],
   "source": [
    "my_str[:4]"
   ]
  },
  {
   "cell_type": "code",
   "execution_count": 19,
   "id": "fbea8375-7f6f-4889-a9a3-224235474432",
   "metadata": {},
   "outputs": [
    {
     "data": {
      "text/plain": [
       "'foob'"
      ]
     },
     "execution_count": 19,
     "metadata": {},
     "output_type": "execute_result"
    }
   ],
   "source": [
    "my_str[0:4]"
   ]
  },
  {
   "cell_type": "code",
   "execution_count": 20,
   "id": "d601660e-3c63-441e-bd38-d54a616fe6e3",
   "metadata": {},
   "outputs": [
    {
     "data": {
      "text/plain": [
       "'obar'"
      ]
     },
     "execution_count": 20,
     "metadata": {},
     "output_type": "execute_result"
    }
   ],
   "source": [
    "my_str[2:]"
   ]
  },
  {
   "cell_type": "code",
   "execution_count": 21,
   "id": "0a97fad2-ac8e-4722-80ae-6526234f310c",
   "metadata": {},
   "outputs": [
    {
     "data": {
      "text/plain": [
       "'obar'"
      ]
     },
     "execution_count": 21,
     "metadata": {},
     "output_type": "execute_result"
    }
   ],
   "source": [
    "my_str[2:len(my_str)]"
   ]
  },
  {
   "cell_type": "code",
   "execution_count": 22,
   "id": "50314526-b8b4-4024-b188-cf8b4e2dbe4c",
   "metadata": {},
   "outputs": [
    {
     "data": {
      "text/plain": [
       "'foobar'"
      ]
     },
     "execution_count": 22,
     "metadata": {},
     "output_type": "execute_result"
    }
   ],
   "source": [
    "my_str[:4]+my_str[4:]"
   ]
  },
  {
   "cell_type": "code",
   "execution_count": 23,
   "id": "e79fa001-883d-43ae-9186-737a69beadf3",
   "metadata": {},
   "outputs": [],
   "source": [
    "t=my_str[:]"
   ]
  },
  {
   "cell_type": "code",
   "execution_count": 24,
   "id": "88c57245-ecfd-44e7-beb4-2ac37ee9502c",
   "metadata": {},
   "outputs": [
    {
     "data": {
      "text/plain": [
       "True"
      ]
     },
     "execution_count": 24,
     "metadata": {},
     "output_type": "execute_result"
    }
   ],
   "source": [
    "id(my_str)==id(t)"
   ]
  },
  {
   "cell_type": "markdown",
   "id": "f41b9162-d9c3-4c22-8d40-9de36bcb59c4",
   "metadata": {},
   "source": [
    "If the first index in a slice is greater than or equal to the second index, Python returns an empty string."
   ]
  },
  {
   "cell_type": "code",
   "execution_count": 25,
   "id": "baf9b507-0afe-4ddc-8d53-4d0622324b94",
   "metadata": {},
   "outputs": [
    {
     "data": {
      "text/plain": [
       "''"
      ]
     },
     "execution_count": 25,
     "metadata": {},
     "output_type": "execute_result"
    }
   ],
   "source": [
    "t[2:2]"
   ]
  },
  {
   "cell_type": "code",
   "execution_count": 26,
   "id": "85bcfc4b-c711-4657-bfdd-1507ad9214a6",
   "metadata": {},
   "outputs": [
    {
     "data": {
      "text/plain": [
       "''"
      ]
     },
     "execution_count": 26,
     "metadata": {},
     "output_type": "execute_result"
    }
   ],
   "source": [
    "t[4:2]"
   ]
  },
  {
   "cell_type": "markdown",
   "id": "31b7a29e-78f8-4e01-ada3-5db5bf2d54d4",
   "metadata": {},
   "source": [
    "Specifying a Stride in a String Slice\n",
    "\n",
    "for the string 'foobar', the slice 0:6:2 starts with the first character and ends with the last character (the whole string), and every second character is skipped. "
   ]
  },
  {
   "cell_type": "code",
   "execution_count": 27,
   "id": "83b8b187-aa0f-49e3-a5ea-5ee299ecb364",
   "metadata": {},
   "outputs": [
    {
     "data": {
      "text/plain": [
       "'obr'"
      ]
     },
     "execution_count": 27,
     "metadata": {},
     "output_type": "execute_result"
    }
   ],
   "source": [
    "t[1:6:2]"
   ]
  },
  {
   "cell_type": "code",
   "execution_count": 28,
   "id": "0853d957-1a1e-499e-bfa7-f57fded0d0dd",
   "metadata": {},
   "outputs": [
    {
     "data": {
      "text/plain": [
       "'foa'"
      ]
     },
     "execution_count": 28,
     "metadata": {},
     "output_type": "execute_result"
    }
   ],
   "source": [
    "t[0:6:2]"
   ]
  },
  {
   "cell_type": "markdown",
   "id": "b8ec8f54-fdd7-42d8-bf56-9805ef467c08",
   "metadata": {},
   "source": [
    "As with slicing, the first and second indices can be omitted, and default to the first and last characters respectively:"
   ]
  },
  {
   "cell_type": "code",
   "execution_count": 29,
   "id": "ef2a4763-0acc-4048-9bed-a5f88d6e3146",
   "metadata": {},
   "outputs": [
    {
     "data": {
      "text/plain": [
       "'1234512345123451234512345'"
      ]
     },
     "execution_count": 29,
     "metadata": {},
     "output_type": "execute_result"
    }
   ],
   "source": [
    "s = '12345' * 5\n",
    "s"
   ]
  },
  {
   "cell_type": "code",
   "execution_count": 30,
   "id": "5d1d63ed-f1fe-4151-8309-954469664075",
   "metadata": {},
   "outputs": [
    {
     "data": {
      "text/plain": [
       "'11111'"
      ]
     },
     "execution_count": 30,
     "metadata": {},
     "output_type": "execute_result"
    }
   ],
   "source": [
    "s[::5]"
   ]
  },
  {
   "cell_type": "code",
   "execution_count": 31,
   "id": "dfa7f9cf-a150-4590-80e5-7ce0d1aebfed",
   "metadata": {},
   "outputs": [
    {
     "data": {
      "text/plain": [
       "'55555'"
      ]
     },
     "execution_count": 31,
     "metadata": {},
     "output_type": "execute_result"
    }
   ],
   "source": [
    "s[4::5]"
   ]
  },
  {
   "cell_type": "markdown",
   "id": "3548ac88-612d-4763-a877-96dd5315d332",
   "metadata": {},
   "source": [
    "You can specify a negative stride value as well, in which case Python steps backward through the string. In that case, the starting/first index should be greater than the ending/second index:"
   ]
  },
  {
   "cell_type": "code",
   "execution_count": 32,
   "id": "794d3b28-4f16-4136-a11e-3ae0439e8abb",
   "metadata": {},
   "outputs": [
    {
     "data": {
      "text/plain": [
       "'rbo'"
      ]
     },
     "execution_count": 32,
     "metadata": {},
     "output_type": "execute_result"
    }
   ],
   "source": [
    "t[5:0:-2]"
   ]
  },
  {
   "cell_type": "markdown",
   "id": "ce303348-6a13-43c4-b31b-0d1453114c53",
   "metadata": {},
   "source": [
    "When you are stepping backward, if the first and second indices are omitted, the defaults are reversed in an intuitive way: the first index defaults to the end of the string, and the second index defaults to the beginning"
   ]
  },
  {
   "cell_type": "markdown",
   "id": "d8fdb0b6-8e66-4e56-94a7-c96fc9d3ddd9",
   "metadata": {},
   "source": [
    "So, a step of -1 will reverse the string."
   ]
  },
  {
   "cell_type": "code",
   "execution_count": 33,
   "id": "e6ba84cd-ee55-44a9-b152-e6350132b9a3",
   "metadata": {},
   "outputs": [
    {
     "data": {
      "text/plain": [
       "'.thgir eb tsum ti ,ti syas noelopaN edarmoC fI'"
      ]
     },
     "execution_count": 33,
     "metadata": {},
     "output_type": "execute_result"
    }
   ],
   "source": [
    "s = 'If Comrade Napoleon says it, it must be right.'\n",
    "s[::-1]"
   ]
  },
  {
   "cell_type": "code",
   "execution_count": 35,
   "id": "0b1a7deb-8922-4f48-93e7-bbc01efe0633",
   "metadata": {},
   "outputs": [
    {
     "name": "stdout",
     "output_type": "stream",
     "text": [
      "The product of  20  and  25  is  500\n"
     ]
    }
   ],
   "source": [
    "n=20\n",
    "m=25\n",
    "prod = n*m\n",
    "print('The product of ',n,' and ',m,' is ',prod) "
   ]
  },
  {
   "cell_type": "code",
   "execution_count": 36,
   "id": "30ece64d-8aa9-48b0-b7e0-5623bc2da210",
   "metadata": {},
   "outputs": [
    {
     "name": "stdout",
     "output_type": "stream",
     "text": [
      "The product of 20 and 25 is 500\n"
     ]
    }
   ],
   "source": [
    "print(f'The product of {n} and {m} is {prod}')"
   ]
  },
  {
   "cell_type": "raw",
   "id": "c3d50f25-bcca-4e01-a3c2-97d2ef2439e8",
   "metadata": {},
   "source": [
    "Strings are immutable --> cannot be modified. e.g."
   ]
  },
  {
   "cell_type": "code",
   "execution_count": 37,
   "id": "3607a1df-dc21-4a46-9d66-9572f22f5dc7",
   "metadata": {},
   "outputs": [
    {
     "ename": "TypeError",
     "evalue": "'str' object does not support item assignment",
     "output_type": "error",
     "traceback": [
      "\u001b[1;31m---------------------------------------------------------------------------\u001b[0m",
      "\u001b[1;31mTypeError\u001b[0m                                 Traceback (most recent call last)",
      "\u001b[1;32m~\\AppData\\Local\\Temp/ipykernel_816/740345502.py\u001b[0m in \u001b[0;36m<module>\u001b[1;34m\u001b[0m\n\u001b[0;32m      1\u001b[0m \u001b[0ms\u001b[0m\u001b[1;33m=\u001b[0m\u001b[1;34m'foobar'\u001b[0m\u001b[1;33m\u001b[0m\u001b[1;33m\u001b[0m\u001b[0m\n\u001b[1;32m----> 2\u001b[1;33m \u001b[0ms\u001b[0m\u001b[1;33m[\u001b[0m\u001b[1;36m3\u001b[0m\u001b[1;33m]\u001b[0m\u001b[1;33m=\u001b[0m\u001b[1;34m'x'\u001b[0m\u001b[1;33m\u001b[0m\u001b[1;33m\u001b[0m\u001b[0m\n\u001b[0m",
      "\u001b[1;31mTypeError\u001b[0m: 'str' object does not support item assignment"
     ]
    }
   ],
   "source": [
    "s='foobar'\n",
    "s[3]='x'"
   ]
  },
  {
   "cell_type": "code",
   "execution_count": 40,
   "id": "fb1cb6f2-5d19-4495-9430-4158f8d99e17",
   "metadata": {},
   "outputs": [
    {
     "data": {
      "text/plain": [
       "'fooxar'"
      ]
     },
     "execution_count": 40,
     "metadata": {},
     "output_type": "execute_result"
    }
   ],
   "source": [
    "s=s[:3]+'x'+s[4:]\n",
    "s"
   ]
  },
  {
   "cell_type": "markdown",
   "id": "691fba1e-9c72-4b95-89fa-9050e3d23343",
   "metadata": {},
   "source": [
    "There is also method replace to do this:"
   ]
  },
  {
   "cell_type": "code",
   "execution_count": 41,
   "id": "a3865050-2243-4b91-96bd-21b55506a20a",
   "metadata": {},
   "outputs": [
    {
     "data": {
      "text/plain": [
       "'fooxar'"
      ]
     },
     "execution_count": 41,
     "metadata": {},
     "output_type": "execute_result"
    }
   ],
   "source": [
    "s = 'foobar'\n",
    "s = s.replace('b', 'x')\n",
    "s"
   ]
  },
  {
   "cell_type": "markdown",
   "id": "e0168886-6844-4c53-ab07-162ed841e812",
   "metadata": {},
   "source": [
    "s.count(<sub>) returns the number of non-overlapping occurrences of substring <sub> in s:"
   ]
  },
  {
   "cell_type": "code",
   "execution_count": 42,
   "id": "e60f18d3-4d4d-4e86-8076-de87d9678d37",
   "metadata": {},
   "outputs": [
    {
     "data": {
      "text/plain": [
       "3"
      ]
     },
     "execution_count": 42,
     "metadata": {},
     "output_type": "execute_result"
    }
   ],
   "source": [
    "'foo goo moo'.count('oo')"
   ]
  },
  {
   "cell_type": "code",
   "execution_count": 43,
   "id": "eb1ece88-1ff1-40d9-a7ec-7cf26614d9f2",
   "metadata": {},
   "outputs": [
    {
     "data": {
      "text/plain": [
       "2"
      ]
     },
     "execution_count": 43,
     "metadata": {},
     "output_type": "execute_result"
    }
   ],
   "source": [
    "'foo goo moo'.count('oo', 0, 8)"
   ]
  },
  {
   "cell_type": "markdown",
   "id": "ba1738fb-39ef-43f0-ab41-4df1c323492d",
   "metadata": {},
   "source": [
    "s.endswith(<suffix>) returns True if s ends with the specified <suffix> and False otherwise:"
   ]
  },
  {
   "cell_type": "code",
   "execution_count": 44,
   "id": "8e8d16c7-9d7a-4fbd-b7b3-8e0342c375a7",
   "metadata": {},
   "outputs": [
    {
     "data": {
      "text/plain": [
       "True"
      ]
     },
     "execution_count": 44,
     "metadata": {},
     "output_type": "execute_result"
    }
   ],
   "source": [
    "'foobar'.endswith('bar')"
   ]
  },
  {
   "cell_type": "code",
   "execution_count": 45,
   "id": "afb1edaa-b325-41d9-8d3d-957265640eb2",
   "metadata": {},
   "outputs": [
    {
     "data": {
      "text/plain": [
       "False"
      ]
     },
     "execution_count": 45,
     "metadata": {},
     "output_type": "execute_result"
    }
   ],
   "source": [
    "'foobar'.endswith('oob', 2, 4)"
   ]
  },
  {
   "cell_type": "markdown",
   "id": "01b943e5-b0a4-4cf8-b493-611b5fc9940a",
   "metadata": {},
   "source": [
    "s.find(<sub>) returns the lowest index in s where substring <sub> is found. Returns -1 if the string is not found."
   ]
  },
  {
   "cell_type": "code",
   "execution_count": 46,
   "id": "492eff53-2582-4eb6-a6f6-ee2b64121d9d",
   "metadata": {},
   "outputs": [
    {
     "data": {
      "text/plain": [
       "-1"
      ]
     },
     "execution_count": 46,
     "metadata": {},
     "output_type": "execute_result"
    }
   ],
   "source": [
    "'foo bar foo baz foo qux'.find('grault')"
   ]
  },
  {
   "cell_type": "markdown",
   "id": "8055f8fd-f43e-4ddb-87ad-9cd1d38a7cac",
   "metadata": {},
   "source": [
    "s.index(<sub>[, <start>[, <end>]])\n",
    "\n",
    "    Searches the target string for a given substring.\n",
    "\n",
    "This method is identical to .find(), except that it raises an exception if <sub> is not found rather than returning -1:"
   ]
  },
  {
   "cell_type": "markdown",
   "id": "c9241630-c7d0-46ef-af54-953115639c95",
   "metadata": {},
   "source": [
    "s.rfind(<sub>) returns the highest index in s where substring <sub> is found"
   ]
  },
  {
   "cell_type": "code",
   "execution_count": 48,
   "id": "3da48a27-16ea-4a19-8222-e92371c0d6d6",
   "metadata": {},
   "outputs": [
    {
     "data": {
      "text/plain": [
       "'foobar'"
      ]
     },
     "execution_count": 48,
     "metadata": {},
     "output_type": "execute_result"
    }
   ],
   "source": [
    "'foobar'[::-1][::-1]"
   ]
  },
  {
   "cell_type": "code",
   "execution_count": 49,
   "id": "a23f60bf-6dea-4e00-8ead-c35c331ec9b0",
   "metadata": {},
   "outputs": [
    {
     "data": {
      "text/plain": [
       "'foobar'"
      ]
     },
     "execution_count": 49,
     "metadata": {},
     "output_type": "execute_result"
    }
   ],
   "source": [
    "\"foobar\"[:]"
   ]
  },
  {
   "cell_type": "code",
   "execution_count": 50,
   "id": "50b51297-9d0d-49c7-869f-a623f2441a3d",
   "metadata": {},
   "outputs": [
    {
     "data": {
      "text/plain": [
       "False"
      ]
     },
     "execution_count": 50,
     "metadata": {},
     "output_type": "execute_result"
    }
   ],
   "source": [
    "s='foobar'\n",
    "s[::-1][::-1] is s"
   ]
  },
  {
   "cell_type": "code",
   "execution_count": 51,
   "id": "63178d5c-5fe0-468c-a942-c1ac8352894a",
   "metadata": {},
   "outputs": [
    {
     "data": {
      "text/plain": [
       "True"
      ]
     },
     "execution_count": 51,
     "metadata": {},
     "output_type": "execute_result"
    }
   ],
   "source": [
    "s[:] is s"
   ]
  },
  {
   "cell_type": "code",
   "execution_count": 53,
   "id": "6ddeedf9-f8df-4305-b16f-6027a9a5705f",
   "metadata": {},
   "outputs": [
    {
     "data": {
      "text/plain": [
       "'fr'"
      ]
     },
     "execution_count": 53,
     "metadata": {},
     "output_type": "execute_result"
    }
   ],
   "source": [
    "s[::-1][::-5]"
   ]
  },
  {
   "cell_type": "code",
   "execution_count": 54,
   "id": "67a0be9c-080a-40a0-bf2d-0f0469d8b1a9",
   "metadata": {},
   "outputs": [
    {
     "data": {
      "text/plain": [
       "'rf'"
      ]
     },
     "execution_count": 54,
     "metadata": {},
     "output_type": "execute_result"
    }
   ],
   "source": [
    "s[::-5]"
   ]
  },
  {
   "cell_type": "code",
   "execution_count": 55,
   "id": "79f374e0-ee0a-4f9b-aa29-43c2698cfe69",
   "metadata": {},
   "outputs": [
    {
     "data": {
      "text/plain": [
       "'fr'"
      ]
     },
     "execution_count": 55,
     "metadata": {},
     "output_type": "execute_result"
    }
   ],
   "source": [
    "s[::5]"
   ]
  },
  {
   "cell_type": "code",
   "execution_count": null,
   "id": "2151caba-1165-43f0-b21c-b4e4a8e445f0",
   "metadata": {},
   "outputs": [],
   "source": []
  }
 ],
 "metadata": {
  "kernelspec": {
   "display_name": "Python 3 (ipykernel)",
   "language": "python",
   "name": "python3"
  },
  "language_info": {
   "codemirror_mode": {
    "name": "ipython",
    "version": 3
   },
   "file_extension": ".py",
   "mimetype": "text/x-python",
   "name": "python",
   "nbconvert_exporter": "python",
   "pygments_lexer": "ipython3",
   "version": "3.8.12"
  }
 },
 "nbformat": 4,
 "nbformat_minor": 5
}

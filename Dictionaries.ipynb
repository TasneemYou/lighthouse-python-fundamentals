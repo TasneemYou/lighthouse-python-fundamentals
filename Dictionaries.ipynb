{
 "cells": [
  {
   "cell_type": "markdown",
   "id": "aa8f4ba2-d830-439e-8f90-f7dcef0aa7bb",
   "metadata": {},
   "source": [
    "Dictionaries and lists share the following characteristics:\n",
    "\n",
    "    Both are mutable.\n",
    "    Both are dynamic. They can grow and shrink as needed.\n",
    "    Both can be nested. A list can contain another list. A dictionary can contain another dictionary. A dictionary can also contain a list, and vice versa.\n",
    "\n",
    "Dictionaries differ from lists primarily in how elements are accessed:\n",
    "\n",
    "    List elements are accessed by their position in the list, via indexing.\n",
    "    Dictionary elements are accessed via keys.\n"
   ]
  },
  {
   "cell_type": "code",
   "execution_count": 1,
   "id": "f5f492fe-ff6c-42b8-8652-69f3665562ed",
   "metadata": {},
   "outputs": [],
   "source": [
    "MLB_team = {\n",
    "...     'Colorado' : 'Rockies',\n",
    "...     'Boston'   : 'Red Sox',\n",
    "...     'Minnesota': 'Twins',\n",
    "...     'Milwaukee': 'Brewers',\n",
    "...     'Seattle'  : 'Mariners'\n",
    "... }"
   ]
  },
  {
   "cell_type": "markdown",
   "id": "fd102b6c-91d1-4ea8-9240-35cc5829bf36",
   "metadata": {},
   "source": [
    "Another way of defining using the dict() function:"
   ]
  },
  {
   "cell_type": "code",
   "execution_count": 2,
   "id": "92ef409a-3b40-4928-9120-81065e60174b",
   "metadata": {},
   "outputs": [],
   "source": [
    "MLB_team = dict([\n",
    "...     ('Colorado', 'Rockies'),\n",
    "...     ('Boston', 'Red Sox'),\n",
    "...     ('Minnesota', 'Twins'),\n",
    "...     ('Milwaukee', 'Brewers'),\n",
    "...     ('Seattle', 'Mariners')\n",
    "... ])"
   ]
  },
  {
   "cell_type": "markdown",
   "id": "f5d69e70-4282-43b2-9403-c4272393ec60",
   "metadata": {},
   "source": [
    "If the key values are simple strings, they can be specified as keyword arguments. So here is yet another way to define MLB_team:"
   ]
  },
  {
   "cell_type": "code",
   "execution_count": 3,
   "id": "575e9b32-e634-4891-a6b0-7700c5dd0431",
   "metadata": {},
   "outputs": [],
   "source": [
    "MLB_team = dict(\n",
    "...     Colorado='Rockies',\n",
    "...     Boston='Red Sox',\n",
    "...     Minnesota='Twins',\n",
    "...     Milwaukee='Brewers',\n",
    "...     Seattle='Mariners'\n",
    "... )"
   ]
  },
  {
   "cell_type": "markdown",
   "id": "f25e989e-7f26-4b8c-83be-b6dcb9e0f8c3",
   "metadata": {},
   "source": [
    "Dictionary elements are not accessed by numerical index:"
   ]
  },
  {
   "cell_type": "code",
   "execution_count": 4,
   "id": "6d78b7d1-0d3c-481e-943c-1be5399c4861",
   "metadata": {},
   "outputs": [
    {
     "ename": "KeyError",
     "evalue": "1",
     "output_type": "error",
     "traceback": [
      "\u001b[1;31m---------------------------------------------------------------------------\u001b[0m",
      "\u001b[1;31mKeyError\u001b[0m                                  Traceback (most recent call last)",
      "\u001b[1;32m~\\AppData\\Local\\Temp/ipykernel_7136/1469821463.py\u001b[0m in \u001b[0;36m<module>\u001b[1;34m\u001b[0m\n\u001b[1;32m----> 1\u001b[1;33m \u001b[0mMLB_team\u001b[0m\u001b[1;33m[\u001b[0m\u001b[1;36m1\u001b[0m\u001b[1;33m]\u001b[0m\u001b[1;33m\u001b[0m\u001b[1;33m\u001b[0m\u001b[0m\n\u001b[0m",
      "\u001b[1;31mKeyError\u001b[0m: 1"
     ]
    }
   ],
   "source": [
    "MLB_team[1]"
   ]
  },
  {
   "cell_type": "code",
   "execution_count": 5,
   "id": "a2e801ea-8dc1-45dc-a27f-54f11c325fa5",
   "metadata": {},
   "outputs": [
    {
     "data": {
      "text/plain": [
       "'Twins'"
      ]
     },
     "execution_count": 5,
     "metadata": {},
     "output_type": "execute_result"
    }
   ],
   "source": [
    "MLB_team['Minnesota']"
   ]
  },
  {
   "cell_type": "markdown",
   "id": "aae58bdc-69a1-4fa4-9e10-6d62336d81f3",
   "metadata": {},
   "source": [
    "If you refer to a key that is not in the dictionary, Python raises an exception:"
   ]
  },
  {
   "cell_type": "code",
   "execution_count": 6,
   "id": "50b170a6-9f38-458c-8513-11efb39641f0",
   "metadata": {},
   "outputs": [
    {
     "ename": "KeyError",
     "evalue": "'Toronto'",
     "output_type": "error",
     "traceback": [
      "\u001b[1;31m---------------------------------------------------------------------------\u001b[0m",
      "\u001b[1;31mKeyError\u001b[0m                                  Traceback (most recent call last)",
      "\u001b[1;32m~\\AppData\\Local\\Temp/ipykernel_7136/2966525637.py\u001b[0m in \u001b[0;36m<module>\u001b[1;34m\u001b[0m\n\u001b[1;32m----> 1\u001b[1;33m \u001b[0mMLB_team\u001b[0m\u001b[1;33m[\u001b[0m\u001b[1;34m'Toronto'\u001b[0m\u001b[1;33m]\u001b[0m\u001b[1;33m\u001b[0m\u001b[1;33m\u001b[0m\u001b[0m\n\u001b[0m",
      "\u001b[1;31mKeyError\u001b[0m: 'Toronto'"
     ]
    }
   ],
   "source": [
    "MLB_team['Toronto']"
   ]
  },
  {
   "cell_type": "markdown",
   "id": "871a2b08-c4bc-4491-a80f-7e368f36b2c4",
   "metadata": {},
   "source": [
    "Adding an entry to an existing dictionary"
   ]
  },
  {
   "cell_type": "code",
   "execution_count": 7,
   "id": "c6730b2d-7db5-41a6-9da1-9381eb04e7f1",
   "metadata": {},
   "outputs": [
    {
     "data": {
      "text/plain": [
       "{'Colorado': 'Rockies',\n",
       " 'Boston': 'Red Sox',\n",
       " 'Minnesota': 'Twins',\n",
       " 'Milwaukee': 'Brewers',\n",
       " 'Seattle': 'Mariners',\n",
       " 'Kansas City': 'Royals'}"
      ]
     },
     "execution_count": 7,
     "metadata": {},
     "output_type": "execute_result"
    }
   ],
   "source": [
    "MLB_team['Kansas City'] = 'Royals'\n",
    "MLB_team"
   ]
  },
  {
   "cell_type": "markdown",
   "id": "35c9456d-0394-4a1c-a327-6c3ba0c80915",
   "metadata": {},
   "source": [
    "If you want to update an entry, you can just assign a new value to an existing key:"
   ]
  },
  {
   "cell_type": "code",
   "execution_count": 8,
   "id": "0736e060-7047-4212-a2e8-6255d332dac8",
   "metadata": {},
   "outputs": [
    {
     "data": {
      "text/plain": [
       "{'Colorado': 'Rockies',\n",
       " 'Boston': 'Red Sox',\n",
       " 'Minnesota': 'Twins',\n",
       " 'Milwaukee': 'Brewers',\n",
       " 'Seattle': 'Seahawks',\n",
       " 'Kansas City': 'Royals'}"
      ]
     },
     "execution_count": 8,
     "metadata": {},
     "output_type": "execute_result"
    }
   ],
   "source": [
    "MLB_team['Seattle'] = 'Seahawks'\n",
    "MLB_team"
   ]
  },
  {
   "cell_type": "markdown",
   "id": "3c5726e9-085a-4744-8c43-2dd5e2a87708",
   "metadata": {},
   "source": [
    "To delete an entry"
   ]
  },
  {
   "cell_type": "code",
   "execution_count": 9,
   "id": "d48b6587-78ee-47e0-8cf5-4e6157d984d3",
   "metadata": {},
   "outputs": [
    {
     "data": {
      "text/plain": [
       "{'Colorado': 'Rockies',\n",
       " 'Boston': 'Red Sox',\n",
       " 'Minnesota': 'Twins',\n",
       " 'Milwaukee': 'Brewers',\n",
       " 'Kansas City': 'Royals'}"
      ]
     },
     "execution_count": 9,
     "metadata": {},
     "output_type": "execute_result"
    }
   ],
   "source": [
    "del MLB_team['Seattle']\n",
    "MLB_team"
   ]
  },
  {
   "cell_type": "markdown",
   "id": "f0f9c18e-398d-462e-a035-aa0592a99f4c",
   "metadata": {},
   "source": [
    "Since an object of any immutable type can be used as a dictionary key. Accordingly, there is no reason you can’t use integers:"
   ]
  },
  {
   "cell_type": "code",
   "execution_count": 10,
   "id": "033185e6-e45c-4895-acf4-57bdaf91d4e5",
   "metadata": {},
   "outputs": [
    {
     "data": {
      "text/plain": [
       "{0: 'a', 1: 'b', 2: 'c', 3: 'd'}"
      ]
     },
     "execution_count": 10,
     "metadata": {},
     "output_type": "execute_result"
    }
   ],
   "source": [
    "d = {0: 'a', 1: 'b', 2: 'c', 3: 'd'}\n",
    "d"
   ]
  },
  {
   "cell_type": "code",
   "execution_count": 11,
   "id": "e92d3a82-ca6d-4bf1-bd13-a66ac09d3828",
   "metadata": {},
   "outputs": [
    {
     "data": {
      "text/plain": [
       "'a'"
      ]
     },
     "execution_count": 11,
     "metadata": {},
     "output_type": "execute_result"
    }
   ],
   "source": [
    "d[0]"
   ]
  },
  {
   "cell_type": "code",
   "execution_count": 12,
   "id": "dfb63631-5bb9-4444-8da9-1e362df451e8",
   "metadata": {},
   "outputs": [
    {
     "ename": "TypeError",
     "evalue": "unhashable type: 'slice'",
     "output_type": "error",
     "traceback": [
      "\u001b[1;31m---------------------------------------------------------------------------\u001b[0m",
      "\u001b[1;31mTypeError\u001b[0m                                 Traceback (most recent call last)",
      "\u001b[1;32m~\\AppData\\Local\\Temp/ipykernel_7136/3015485889.py\u001b[0m in \u001b[0;36m<module>\u001b[1;34m\u001b[0m\n\u001b[1;32m----> 1\u001b[1;33m \u001b[0md\u001b[0m\u001b[1;33m[\u001b[0m\u001b[1;36m0\u001b[0m\u001b[1;33m:\u001b[0m\u001b[1;36m2\u001b[0m\u001b[1;33m]\u001b[0m\u001b[1;33m\u001b[0m\u001b[1;33m\u001b[0m\u001b[0m\n\u001b[0m",
      "\u001b[1;31mTypeError\u001b[0m: unhashable type: 'slice'"
     ]
    }
   ],
   "source": [
    "d[0:2]"
   ]
  },
  {
   "cell_type": "code",
   "execution_count": 13,
   "id": "0360f11b-1931-43ea-bacb-3413e1dacc3c",
   "metadata": {},
   "outputs": [
    {
     "ename": "AttributeError",
     "evalue": "'dict' object has no attribute 'append'",
     "output_type": "error",
     "traceback": [
      "\u001b[1;31m---------------------------------------------------------------------------\u001b[0m",
      "\u001b[1;31mAttributeError\u001b[0m                            Traceback (most recent call last)",
      "\u001b[1;32m~\\AppData\\Local\\Temp/ipykernel_7136/3892760605.py\u001b[0m in \u001b[0;36m<module>\u001b[1;34m\u001b[0m\n\u001b[1;32m----> 1\u001b[1;33m \u001b[0md\u001b[0m\u001b[1;33m.\u001b[0m\u001b[0mappend\u001b[0m\u001b[1;33m(\u001b[0m\u001b[1;34m'e'\u001b[0m\u001b[1;33m)\u001b[0m\u001b[1;33m\u001b[0m\u001b[1;33m\u001b[0m\u001b[0m\n\u001b[0m",
      "\u001b[1;31mAttributeError\u001b[0m: 'dict' object has no attribute 'append'"
     ]
    }
   ],
   "source": [
    "d.append('e')"
   ]
  },
  {
   "cell_type": "markdown",
   "id": "590285c3-935c-43b4-ac9c-34f5cfd0d3f8",
   "metadata": {},
   "source": [
    "You can start by creating an empty dictionary, which is specified by empty curly braces. Then you can add new keys and values one at a time:"
   ]
  },
  {
   "cell_type": "code",
   "execution_count": 14,
   "id": "be5c3661-3ddb-4371-947e-ea64b88d7f8a",
   "metadata": {},
   "outputs": [],
   "source": [
    "person = {}"
   ]
  },
  {
   "cell_type": "code",
   "execution_count": 15,
   "id": "03bfee0d-b926-4b91-a35b-ec160bb171d7",
   "metadata": {},
   "outputs": [
    {
     "data": {
      "text/plain": [
       "dict"
      ]
     },
     "execution_count": 15,
     "metadata": {},
     "output_type": "execute_result"
    }
   ],
   "source": [
    "type(person)"
   ]
  },
  {
   "cell_type": "code",
   "execution_count": 16,
   "id": "b1cbdc9e-f468-4ac3-b448-f555656ca74b",
   "metadata": {},
   "outputs": [],
   "source": [
    "person['fname'] = 'Joe'\n",
    "person['lname'] = 'Fonebone'\n",
    "person['age'] = 51\n",
    "person['spouse'] = 'Edna'\n",
    "person['children'] = ['Ralph', 'Betty', 'Joey']\n",
    "person['pets'] = {'dog': 'Fido', 'cat': 'Sox'}"
   ]
  },
  {
   "cell_type": "code",
   "execution_count": 17,
   "id": "f4fc94f8-134f-475c-a387-6bf98d7eea9f",
   "metadata": {},
   "outputs": [
    {
     "data": {
      "text/plain": [
       "{'fname': 'Joe',\n",
       " 'lname': 'Fonebone',\n",
       " 'age': 51,\n",
       " 'spouse': 'Edna',\n",
       " 'children': ['Ralph', 'Betty', 'Joey'],\n",
       " 'pets': {'dog': 'Fido', 'cat': 'Sox'}}"
      ]
     },
     "execution_count": 17,
     "metadata": {},
     "output_type": "execute_result"
    }
   ],
   "source": [
    "person"
   ]
  },
  {
   "cell_type": "code",
   "execution_count": 18,
   "id": "797f816c-e395-47cc-b8fd-7b569250fe8c",
   "metadata": {},
   "outputs": [
    {
     "data": {
      "text/plain": [
       "['Ralph', 'Betty', 'Joey']"
      ]
     },
     "execution_count": 18,
     "metadata": {},
     "output_type": "execute_result"
    }
   ],
   "source": [
    "person['children']"
   ]
  },
  {
   "cell_type": "code",
   "execution_count": 19,
   "id": "8bb5d563-4ea7-4bf7-82a0-bbb50932a465",
   "metadata": {},
   "outputs": [
    {
     "data": {
      "text/plain": [
       "'Joey'"
      ]
     },
     "execution_count": 19,
     "metadata": {},
     "output_type": "execute_result"
    }
   ],
   "source": [
    "person['children'][-1]"
   ]
  },
  {
   "cell_type": "code",
   "execution_count": 20,
   "id": "baba8e6d-d333-4510-998a-98da73f8eb1b",
   "metadata": {},
   "outputs": [
    {
     "data": {
      "text/plain": [
       "'Sox'"
      ]
     },
     "execution_count": 20,
     "metadata": {},
     "output_type": "execute_result"
    }
   ],
   "source": [
    "person['pets']['cat']"
   ]
  },
  {
   "cell_type": "markdown",
   "id": "c5bcad9c-8c0e-424c-97ad-b0ba88e88a19",
   "metadata": {},
   "source": [
    "Just as the values in a dictionary don’t need to be of the same type, the keys don’t either. Here, one of the keys is an integer, one is a float, and one is a Boolean."
   ]
  },
  {
   "cell_type": "code",
   "execution_count": 21,
   "id": "e8acbc7a-940b-4a48-b096-df59f15dfc43",
   "metadata": {},
   "outputs": [],
   "source": [
    "foo = {42: 'aaa', 2.78: 'bbb', True: 'ccc'}"
   ]
  },
  {
   "cell_type": "code",
   "execution_count": 22,
   "id": "ac0f2bb4-7471-4afe-bdb7-59a5a07e5e34",
   "metadata": {},
   "outputs": [
    {
     "data": {
      "text/plain": [
       "{42: 'aaa', 2.78: 'bbb', True: 'ccc'}"
      ]
     },
     "execution_count": 22,
     "metadata": {},
     "output_type": "execute_result"
    }
   ],
   "source": [
    "foo"
   ]
  },
  {
   "cell_type": "code",
   "execution_count": 23,
   "id": "d8a262bf-b655-4cb3-b863-ddc28966a7cb",
   "metadata": {},
   "outputs": [
    {
     "data": {
      "text/plain": [
       "'ccc'"
      ]
     },
     "execution_count": 23,
     "metadata": {},
     "output_type": "execute_result"
    }
   ],
   "source": [
    "foo[True]"
   ]
  },
  {
   "cell_type": "code",
   "execution_count": 24,
   "id": "68eab5a5-0098-4ad8-8f90-478f38576562",
   "metadata": {},
   "outputs": [],
   "source": [
    "d = {int: 1, float: 2, bool: 3}"
   ]
  },
  {
   "cell_type": "code",
   "execution_count": 25,
   "id": "e10c833d-fabc-4f95-913f-c45add3fbf19",
   "metadata": {},
   "outputs": [
    {
     "data": {
      "text/plain": [
       "2"
      ]
     },
     "execution_count": 25,
     "metadata": {},
     "output_type": "execute_result"
    }
   ],
   "source": [
    "d[float]"
   ]
  },
  {
   "cell_type": "markdown",
   "id": "a6da3926-74be-46f8-8b98-05a9f15fc389",
   "metadata": {},
   "source": [
    "a given key can appear in a dictionary only once. Duplicate keys are not allowed.\n",
    "\n",
    "if you specify a key a second time during the initial creation of a dictionary, the second occurrence will override the first:"
   ]
  },
  {
   "cell_type": "code",
   "execution_count": 26,
   "id": "23befd4b-43e7-4000-acb6-c4991c05d80e",
   "metadata": {},
   "outputs": [
    {
     "data": {
      "text/plain": [
       "{'Colorado': 'Rockies',\n",
       " 'Boston': 'Red Sox',\n",
       " 'Minnesota': 'Twins',\n",
       " 'Milwaukee': 'Brewers',\n",
       " 'Seattle': 'Mariners'}"
      ]
     },
     "execution_count": 26,
     "metadata": {},
     "output_type": "execute_result"
    }
   ],
   "source": [
    "MLB_team = {\n",
    "...     'Colorado' : 'Rockies',\n",
    "...     'Boston'   : 'Red Sox',\n",
    "...     'Minnesota': 'Timberwolves',\n",
    "...     'Milwaukee': 'Brewers',\n",
    "...     'Seattle'  : 'Mariners',\n",
    "...     'Minnesota': 'Twins'\n",
    "... }\n",
    "MLB_team"
   ]
  },
  {
   "cell_type": "markdown",
   "id": "a60edf82-b228-4bb7-a68b-6e76113137cd",
   "metadata": {},
   "source": [
    "A tuple can also be a dictionary key, because tuples are immutable:"
   ]
  },
  {
   "cell_type": "code",
   "execution_count": 27,
   "id": "9f95e26a-6e66-425a-a3af-2aaa227b4590",
   "metadata": {},
   "outputs": [
    {
     "data": {
      "text/plain": [
       "'a'"
      ]
     },
     "execution_count": 27,
     "metadata": {},
     "output_type": "execute_result"
    }
   ],
   "source": [
    "d = {(1, 1): 'a', (1, 2): 'b', (2, 1): 'c', (2, 2): 'd'}\n",
    "d[(1,1)]"
   ]
  },
  {
   "cell_type": "markdown",
   "id": "8b186435-88ff-4a05-879e-197cf45e0732",
   "metadata": {},
   "source": [
    "However, neither a list nor another dictionary can serve as a dictionary key, because lists and dictionaries are mutable:"
   ]
  },
  {
   "cell_type": "code",
   "execution_count": 28,
   "id": "9ecec91d-f730-4f00-9556-87e01fa86dd6",
   "metadata": {},
   "outputs": [
    {
     "ename": "TypeError",
     "evalue": "unhashable type: 'list'",
     "output_type": "error",
     "traceback": [
      "\u001b[1;31m---------------------------------------------------------------------------\u001b[0m",
      "\u001b[1;31mTypeError\u001b[0m                                 Traceback (most recent call last)",
      "\u001b[1;32m~\\AppData\\Local\\Temp/ipykernel_7136/2252180456.py\u001b[0m in \u001b[0;36m<module>\u001b[1;34m\u001b[0m\n\u001b[1;32m----> 1\u001b[1;33m \u001b[0md\u001b[0m \u001b[1;33m=\u001b[0m \u001b[1;33m{\u001b[0m\u001b[1;33m[\u001b[0m\u001b[1;36m1\u001b[0m\u001b[1;33m,\u001b[0m \u001b[1;36m1\u001b[0m\u001b[1;33m]\u001b[0m\u001b[1;33m:\u001b[0m \u001b[1;34m'a'\u001b[0m\u001b[1;33m,\u001b[0m \u001b[1;33m[\u001b[0m\u001b[1;36m1\u001b[0m\u001b[1;33m,\u001b[0m \u001b[1;36m2\u001b[0m\u001b[1;33m]\u001b[0m\u001b[1;33m:\u001b[0m \u001b[1;34m'b'\u001b[0m\u001b[1;33m,\u001b[0m \u001b[1;33m[\u001b[0m\u001b[1;36m2\u001b[0m\u001b[1;33m,\u001b[0m \u001b[1;36m1\u001b[0m\u001b[1;33m]\u001b[0m\u001b[1;33m:\u001b[0m \u001b[1;34m'c'\u001b[0m\u001b[1;33m,\u001b[0m \u001b[1;33m[\u001b[0m\u001b[1;36m2\u001b[0m\u001b[1;33m,\u001b[0m \u001b[1;36m2\u001b[0m\u001b[1;33m]\u001b[0m\u001b[1;33m:\u001b[0m \u001b[1;34m'd'\u001b[0m\u001b[1;33m}\u001b[0m\u001b[1;33m\u001b[0m\u001b[1;33m\u001b[0m\u001b[0m\n\u001b[0m",
      "\u001b[1;31mTypeError\u001b[0m: unhashable type: 'list'"
     ]
    }
   ],
   "source": [
    "d = {[1, 1]: 'a', [1, 2]: 'b', [2, 1]: 'c', [2, 2]: 'd'}"
   ]
  },
  {
   "cell_type": "markdown",
   "id": "483f36f6-4480-48fd-b6c8-7efd37e950e3",
   "metadata": {},
   "source": [
    "By contrast, there are no restrictions on dictionary values. Literally none at all. A dictionary value can be any type of object Python supports, including mutable types like lists and dictionaries, and user-defined objects, which you will learn about in upcoming tutorials.\n",
    "\n",
    "There is also no restriction against a particular value appearing in a dictionary multiple times:"
   ]
  },
  {
   "cell_type": "code",
   "execution_count": 29,
   "id": "84d9ddd5-4251-4a26-9396-59d248386999",
   "metadata": {},
   "outputs": [],
   "source": [
    "d = {0: 'a', 1: 'a', 2: 'a', 3: 'a'}"
   ]
  },
  {
   "cell_type": "code",
   "execution_count": 30,
   "id": "a0d3efb2-71fe-4477-8a9a-998d6c22b813",
   "metadata": {},
   "outputs": [
    {
     "data": {
      "text/plain": [
       "True"
      ]
     },
     "execution_count": 30,
     "metadata": {},
     "output_type": "execute_result"
    }
   ],
   "source": [
    "d[0] == d[1] == d[2]"
   ]
  },
  {
   "cell_type": "code",
   "execution_count": 31,
   "id": "1eb58ed2-185a-4b86-bb3a-973299e21088",
   "metadata": {},
   "outputs": [
    {
     "data": {
      "text/plain": [
       "True"
      ]
     },
     "execution_count": 31,
     "metadata": {},
     "output_type": "execute_result"
    }
   ],
   "source": [
    "'Milwaukee' in MLB_team"
   ]
  },
  {
   "cell_type": "code",
   "execution_count": 32,
   "id": "4360c2ba-e7af-49d7-ba55-ed65d3d1b00b",
   "metadata": {},
   "outputs": [
    {
     "data": {
      "text/plain": [
       "True"
      ]
     },
     "execution_count": 32,
     "metadata": {},
     "output_type": "execute_result"
    }
   ],
   "source": [
    "'Toronto' not in MLB_team"
   ]
  },
  {
   "cell_type": "markdown",
   "id": "f96a53e0-7550-42c0-898b-a14bac172240",
   "metadata": {},
   "source": [
    "You can use the in operator together with short-circuit evaluation to avoid raising an error when trying to access a key that is not in the dictionary:"
   ]
  },
  {
   "cell_type": "code",
   "execution_count": 33,
   "id": "9294e517-9d81-435a-b17a-9c28ab39017b",
   "metadata": {},
   "outputs": [
    {
     "data": {
      "text/plain": [
       "False"
      ]
     },
     "execution_count": 33,
     "metadata": {},
     "output_type": "execute_result"
    }
   ],
   "source": [
    "'Toronto' in MLB_team and MLB_team['Toronto']"
   ]
  },
  {
   "cell_type": "code",
   "execution_count": 34,
   "id": "52a8d0f1-824e-435a-be1d-443cc899d64d",
   "metadata": {},
   "outputs": [
    {
     "data": {
      "text/plain": [
       "5"
      ]
     },
     "execution_count": 34,
     "metadata": {},
     "output_type": "execute_result"
    }
   ],
   "source": [
    "len(MLB_team)"
   ]
  },
  {
   "cell_type": "markdown",
   "id": "907e4aeb-277c-45d9-b525-cd211e458a08",
   "metadata": {},
   "source": [
    "d.clear() empties dictionary d of all key-value pairs:"
   ]
  },
  {
   "cell_type": "code",
   "execution_count": 35,
   "id": "06f6a0d7-e990-42f4-9c62-ddedff6df94c",
   "metadata": {},
   "outputs": [
    {
     "data": {
      "text/plain": [
       "{'a': 10, 'b': 20, 'c': 30}"
      ]
     },
     "execution_count": 35,
     "metadata": {},
     "output_type": "execute_result"
    }
   ],
   "source": [
    "d = {'a': 10, 'b': 20, 'c': 30}\n",
    "d"
   ]
  },
  {
   "cell_type": "code",
   "execution_count": 36,
   "id": "8b18f891-4571-4fca-a46f-3f36a4f7af83",
   "metadata": {},
   "outputs": [
    {
     "data": {
      "text/plain": [
       "{}"
      ]
     },
     "execution_count": 36,
     "metadata": {},
     "output_type": "execute_result"
    }
   ],
   "source": [
    "d.clear()\n",
    "d"
   ]
  },
  {
   "cell_type": "markdown",
   "id": "6d90f7eb-e630-4c18-9639-bab2fb8507c8",
   "metadata": {},
   "source": [
    "d.get(<key>[, <default>])\n",
    "\n",
    "    Returns the value for a key if it exists in the dictionary.\n"
   ]
  },
  {
   "cell_type": "code",
   "execution_count": 37,
   "id": "d35fbb3e-c851-45a8-bf97-3385e93424de",
   "metadata": {},
   "outputs": [],
   "source": [
    "d = {'a': 10, 'b': 20, 'c': 30}"
   ]
  },
  {
   "cell_type": "code",
   "execution_count": 38,
   "id": "68defb27-23cf-4991-a358-b588ed733a67",
   "metadata": {},
   "outputs": [
    {
     "data": {
      "text/plain": [
       "20"
      ]
     },
     "execution_count": 38,
     "metadata": {},
     "output_type": "execute_result"
    }
   ],
   "source": [
    "d.get('b')"
   ]
  },
  {
   "cell_type": "code",
   "execution_count": 42,
   "id": "1ae85b31-6347-4f17-87dd-7f586f4081d8",
   "metadata": {},
   "outputs": [],
   "source": [
    "d.get('z')"
   ]
  },
  {
   "cell_type": "code",
   "execution_count": 41,
   "id": "5c264ba3-668f-41fc-9c40-f9c281dd6184",
   "metadata": {},
   "outputs": [
    {
     "name": "stdout",
     "output_type": "stream",
     "text": [
      "None\n"
     ]
    }
   ],
   "source": [
    "print(d.get('z'))"
   ]
  },
  {
   "cell_type": "markdown",
   "id": "ffdeb8de-80cc-4a9a-8b8f-1a8673b2427e",
   "metadata": {},
   "source": [
    "If key is not found and the optional default argument is specified, that value is returned instead of None:"
   ]
  },
  {
   "cell_type": "code",
   "execution_count": 43,
   "id": "8c0715a8-eac4-4c29-9051-a086ce021183",
   "metadata": {},
   "outputs": [
    {
     "data": {
      "text/plain": [
       "-1"
      ]
     },
     "execution_count": 43,
     "metadata": {},
     "output_type": "execute_result"
    }
   ],
   "source": [
    "d.get('z', -1)"
   ]
  },
  {
   "cell_type": "markdown",
   "id": "acceecfa-8591-4989-bf74-754ef3a53a94",
   "metadata": {},
   "source": [
    "d.items()\n",
    "\n",
    "    Returns a list of key-value pairs in a dictionary.\n",
    "\n",
    "d.items() returns a list of tuples containing the key-value pairs in d. The first item in each tuple is the key, and the second item is the key’s value:"
   ]
  },
  {
   "cell_type": "code",
   "execution_count": 44,
   "id": "933f5626-aef6-4a38-ac1a-656fe65b4830",
   "metadata": {},
   "outputs": [],
   "source": [
    "d = {'a': 10, 'b': 20, 'c': 30}"
   ]
  },
  {
   "cell_type": "code",
   "execution_count": 45,
   "id": "23c76101-6ee7-4ddc-8c3a-17dbed395311",
   "metadata": {},
   "outputs": [
    {
     "data": {
      "text/plain": [
       "[('a', 10), ('b', 20), ('c', 30)]"
      ]
     },
     "execution_count": 45,
     "metadata": {},
     "output_type": "execute_result"
    }
   ],
   "source": [
    "list(d.items())"
   ]
  },
  {
   "cell_type": "code",
   "execution_count": 46,
   "id": "48a7c6bb-e228-46e4-8775-1a6b7db82251",
   "metadata": {},
   "outputs": [
    {
     "data": {
      "text/plain": [
       "'b'"
      ]
     },
     "execution_count": 46,
     "metadata": {},
     "output_type": "execute_result"
    }
   ],
   "source": [
    "list(d.items())[1][0]"
   ]
  },
  {
   "cell_type": "code",
   "execution_count": 47,
   "id": "5a1c03de-db9c-4e0e-8840-4806040df7c6",
   "metadata": {},
   "outputs": [
    {
     "data": {
      "text/plain": [
       "20"
      ]
     },
     "execution_count": 47,
     "metadata": {},
     "output_type": "execute_result"
    }
   ],
   "source": [
    "list(d.items())[1][1]"
   ]
  },
  {
   "cell_type": "markdown",
   "id": "853e55c7-ba5a-4a80-a863-5e5e7b9efc00",
   "metadata": {},
   "source": [
    "d.keys()\n",
    "\n",
    "    Returns a list of keys in a dictionary.\n",
    "\n",
    "    d.values()\n",
    "\n",
    "    Returns a list of values in a dictionary.\n",
    "\n",
    "    d.pop(<key>[, <default>])\n",
    "\n",
    "    Removes a key from a dictionary, if it is present, and returns its value.\n",
    "\n",
    "If <key> is present in d, d.pop(<key>) removes <key> and returns its associated value. d.pop(<key>) raises a KeyError exception if <key> is not in d.If <key> is not in d, and the optional <default> argument is specified, then that value is returned, and no exception is raised:"
   ]
  },
  {
   "cell_type": "code",
   "execution_count": 48,
   "id": "eae8f30e-00a1-4aa2-8fcd-ec5c61f84e9b",
   "metadata": {},
   "outputs": [
    {
     "data": {
      "text/plain": [
       "-1"
      ]
     },
     "execution_count": 48,
     "metadata": {},
     "output_type": "execute_result"
    }
   ],
   "source": [
    "d = {'a': 10, 'b': 20, 'c': 30}\n",
    "d.pop('z', -1)"
   ]
  },
  {
   "cell_type": "markdown",
   "id": "2c848769-a186-45ff-8919-069b3cddcda3",
   "metadata": {},
   "source": [
    "d.popitem() removes the last key-value pair added from d and returns it as a tuple. If d is empty, d.popitem() raises a KeyError exception:"
   ]
  },
  {
   "cell_type": "code",
   "execution_count": 49,
   "id": "48126ac7-aa1e-4c9b-b3fb-7dd2394eaa13",
   "metadata": {},
   "outputs": [
    {
     "data": {
      "text/plain": [
       "('c', 30)"
      ]
     },
     "execution_count": 49,
     "metadata": {},
     "output_type": "execute_result"
    }
   ],
   "source": [
    "d = {'a': 10, 'b': 20, 'c': 30}\n",
    "\n",
    "d.popitem()\n"
   ]
  },
  {
   "cell_type": "code",
   "execution_count": 50,
   "id": "45d991f0-4245-4260-b6b5-a4684e0ff566",
   "metadata": {},
   "outputs": [
    {
     "data": {
      "text/plain": [
       "{'a': 10, 'b': 20}"
      ]
     },
     "execution_count": 50,
     "metadata": {},
     "output_type": "execute_result"
    }
   ],
   "source": [
    "d"
   ]
  },
  {
   "cell_type": "code",
   "execution_count": 51,
   "id": "d276fdac-d77f-41cb-ab85-cd980533ccf9",
   "metadata": {},
   "outputs": [
    {
     "data": {
      "text/plain": [
       "{'a': 10, 'b': 200, 'c': 30, 'd': 400}"
      ]
     },
     "execution_count": 51,
     "metadata": {},
     "output_type": "execute_result"
    }
   ],
   "source": [
    "d1 = {'a': 10, 'b': 20, 'c': 30}\n",
    "d2 = {'b': 200, 'd': 400}\n",
    "d1.update(d2)\n",
    "d1"
   ]
  },
  {
   "cell_type": "code",
   "execution_count": 52,
   "id": "91f00a0d-e57e-434e-8031-478868ca93d5",
   "metadata": {},
   "outputs": [
    {
     "data": {
      "text/plain": [
       "{'a': 10, 'b': 200, 'c': 30, 'd': 400}"
      ]
     },
     "execution_count": 52,
     "metadata": {},
     "output_type": "execute_result"
    }
   ],
   "source": [
    "d1 = {'a': 10, 'b': 20, 'c': 30}\n",
    "d1.update([('b', 200), ('d', 400)])\n",
    "d1"
   ]
  },
  {
   "cell_type": "code",
   "execution_count": 53,
   "id": "cc9c92a9-cfdc-411c-b50d-6793584b3615",
   "metadata": {},
   "outputs": [
    {
     "data": {
      "text/plain": [
       "{'a': 10, 'b': 200, 'c': 30, 'd': 400}"
      ]
     },
     "execution_count": 53,
     "metadata": {},
     "output_type": "execute_result"
    }
   ],
   "source": [
    "d1 = {'a': 10, 'b': 20, 'c': 30}\n",
    "d1.update(b=200, d=400)\n",
    "d1"
   ]
  },
  {
   "cell_type": "markdown",
   "id": "18b03ea8-bc79-4aed-bfb7-63ce285b5d85",
   "metadata": {},
   "source": [
    "d.update(<obj>)\n",
    "\n",
    "    Merges a dictionary with another dictionary or with an iterable of key-value pairs.\n"
   ]
  }
 ],
 "metadata": {
  "kernelspec": {
   "display_name": "Python 3 (ipykernel)",
   "language": "python",
   "name": "python3"
  },
  "language_info": {
   "codemirror_mode": {
    "name": "ipython",
    "version": 3
   },
   "file_extension": ".py",
   "mimetype": "text/x-python",
   "name": "python",
   "nbconvert_exporter": "python",
   "pygments_lexer": "ipython3",
   "version": "3.8.12"
  }
 },
 "nbformat": 4,
 "nbformat_minor": 5
}
